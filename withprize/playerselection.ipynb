{
 "cells": [
  {
   "cell_type": "code",
   "execution_count": 1,
   "metadata": {
    "collapsed": true
   },
   "outputs": [],
   "source": [
    "%matplotlib inline\n",
    "# data analysis and wrangling\n",
    "import pandas as pd\n",
    "import numpy as np\n",
    "import random as rnd\n",
    "\n",
    "# visualization\n",
    "import seaborn as sns\n",
    "import matplotlib.pyplot as plt\n",
    "\n",
    "from linearmodels import PanelOLS"
   ]
  },
  {
   "cell_type": "code",
   "execution_count": 16,
   "metadata": {
    "collapsed": true
   },
   "outputs": [],
   "source": [
    "df = pd.read_csv('allplayeragewithteam.csv', encoding = \"ISO-8859-1\")"
   ]
  },
  {
   "cell_type": "code",
   "execution_count": 17,
   "metadata": {},
   "outputs": [],
   "source": [
    "df.drop('Unnamed: 0', axis=1, inplace=True)"
   ]
  },
  {
   "cell_type": "code",
   "execution_count": 8,
   "metadata": {},
   "outputs": [],
   "source": [
    "df = df.set_index('name')"
   ]
  },
  {
   "cell_type": "code",
   "execution_count": 13,
   "metadata": {},
   "outputs": [
    {
     "data": {
      "text/plain": [
       "'2014-??-??'"
      ]
     },
     "execution_count": 13,
     "metadata": {},
     "output_type": "execute_result"
    }
   ],
   "source": [
    "df.iloc[0]['join']"
   ]
  },
  {
   "cell_type": "code",
   "execution_count": 21,
   "metadata": {},
   "outputs": [
    {
     "data": {
      "text/html": [
       "<div>\n",
       "<style>\n",
       "    .dataframe thead tr:only-child th {\n",
       "        text-align: right;\n",
       "    }\n",
       "\n",
       "    .dataframe thead th {\n",
       "        text-align: left;\n",
       "    }\n",
       "\n",
       "    .dataframe tbody tr th {\n",
       "        vertical-align: top;\n",
       "    }\n",
       "</style>\n",
       "<table border=\"1\" class=\"dataframe\">\n",
       "  <thead>\n",
       "    <tr style=\"text-align: right;\">\n",
       "      <th></th>\n",
       "      <th>cog</th>\n",
       "      <th>player</th>\n",
       "      <th>name</th>\n",
       "      <th>dob</th>\n",
       "      <th>role</th>\n",
       "      <th>team</th>\n",
       "      <th>join</th>\n",
       "      <th>leave</th>\n",
       "    </tr>\n",
       "  </thead>\n",
       "  <tbody>\n",
       "  </tbody>\n",
       "</table>\n",
       "</div>"
      ],
      "text/plain": [
       "Empty DataFrame\n",
       "Columns: [cog, player, name, dob, role, team, join, leave]\n",
       "Index: []"
      ]
     },
     "execution_count": 21,
     "metadata": {},
     "output_type": "execute_result"
    }
   ],
   "source": [
    "df[df['player'] == 'pieliedie']"
   ]
  },
  {
   "cell_type": "code",
   "execution_count": 26,
   "metadata": {},
   "outputs": [],
   "source": [
    "fa = df[['player', 'join']].groupby('player').first()"
   ]
  },
  {
   "cell_type": "code",
   "execution_count": 58,
   "metadata": {},
   "outputs": [
    {
     "data": {
      "text/plain": [
       "player\n",
       "Pajkatt                    24\n",
       "SQreen                     24\n",
       "DeMoN                      24\n",
       "ComeWithMe                 23\n",
       "MiGGel                     23\n",
       "RmN-                       22\n",
       "MiSeRy                     21\n",
       "SyndereN                   21\n",
       "Sedoy                      21\n",
       "Vigoss                     20\n",
       "Goblak                     20\n",
       "Bignum                     18\n",
       "SexyBamboe                 18\n",
       "Ryze                       18\n",
       "MaNia                      18\n",
       "HFn                        17\n",
       "ALWAYSWANNAFLY             17\n",
       "7ckngMad                   17\n",
       "13abyKnight                17\n",
       "Mag~                       16\n",
       "Cr1t-                      16\n",
       "Fear                       16\n",
       "Mirakel                    16\n",
       "Illidan                    16\n",
       "Solo                       16\n",
       "ArsZeeqq                   16\n",
       "Funn1k                     15\n",
       "UnderShock                 15\n",
       "SlashStrike                15\n",
       "L0lik O                    15\n",
       "                           ..\n",
       "820                         1\n",
       "KBBQ                        1\n",
       "SANKE                       1\n",
       "Dreamocel                   1\n",
       "MarSu                       1\n",
       "Sayaka                      1\n",
       "Okcya                       1\n",
       "Nahaz                       1\n",
       "Bkid                        1\n",
       "Nine                        1\n",
       "Mofi                        1\n",
       "German player               1\n",
       "TuTu                        1\n",
       "Gnoji                       1\n",
       "V1lat                       1\n",
       "Axx                         1\n",
       "GranDGranT                  1\n",
       "Slahser                     1\n",
       "Luft                        1\n",
       "Sky                         1\n",
       "Ariunbolor                  1\n",
       "SirActionSlacks             1\n",
       "Capitalist                  1\n",
       "OmegaPwner                  1\n",
       "OwnedMe                     1\n",
       "PAADA                       1\n",
       "Chaoly                      1\n",
       "PLZDunKilme                 1\n",
       "Seven (Filipino player)     1\n",
       "Doctor                      1\n",
       "Length: 759, dtype: int64"
      ]
     },
     "execution_count": 58,
     "metadata": {},
     "output_type": "execute_result"
    }
   ],
   "source": [
    "df[['player', 'join']].groupby('player').size().sort_values(ascending=False)"
   ]
  },
  {
   "cell_type": "code",
   "execution_count": 27,
   "metadata": {},
   "outputs": [
    {
     "data": {
      "text/html": [
       "<div>\n",
       "<style>\n",
       "    .dataframe thead tr:only-child th {\n",
       "        text-align: right;\n",
       "    }\n",
       "\n",
       "    .dataframe thead th {\n",
       "        text-align: left;\n",
       "    }\n",
       "\n",
       "    .dataframe tbody tr th {\n",
       "        vertical-align: top;\n",
       "    }\n",
       "</style>\n",
       "<table border=\"1\" class=\"dataframe\">\n",
       "  <thead>\n",
       "    <tr style=\"text-align: right;\">\n",
       "      <th></th>\n",
       "      <th>join</th>\n",
       "    </tr>\n",
       "    <tr>\n",
       "      <th>player</th>\n",
       "      <th></th>\n",
       "    </tr>\n",
       "  </thead>\n",
       "  <tbody>\n",
       "    <tr>\n",
       "      <th>.Ark</th>\n",
       "      <td>2014-??-??</td>\n",
       "    </tr>\n",
       "    <tr>\n",
       "      <th>13abyKnight</th>\n",
       "      <td>2011-04-11</td>\n",
       "    </tr>\n",
       "    <tr>\n",
       "      <th>1437</th>\n",
       "      <td>2011-08-11</td>\n",
       "    </tr>\n",
       "    <tr>\n",
       "      <th>290</th>\n",
       "      <td>2014-03-??</td>\n",
       "    </tr>\n",
       "    <tr>\n",
       "      <th>33</th>\n",
       "      <td>2015-12-19</td>\n",
       "    </tr>\n",
       "  </tbody>\n",
       "</table>\n",
       "</div>"
      ],
      "text/plain": [
       "                   join\n",
       "player                 \n",
       ".Ark         2014-??-??\n",
       "13abyKnight  2011-04-11\n",
       "1437         2011-08-11\n",
       "290          2014-03-??\n",
       "33           2015-12-19"
      ]
     },
     "execution_count": 27,
     "metadata": {},
     "output_type": "execute_result"
    }
   ],
   "source": [
    "fa.head()"
   ]
  },
  {
   "cell_type": "code",
   "execution_count": 37,
   "metadata": {},
   "outputs": [
    {
     "data": {
      "text/plain": [
       "player\n",
       "Iceiceice        2005\n",
       "Fear             2005\n",
       "Vigoss           2006\n",
       "Akke             2006\n",
       "Maelk            2006\n",
       "Loda             2006\n",
       "NS               2006\n",
       "MaNia            2006\n",
       "Drayich          2006\n",
       "Puppey           2007\n",
       "Heen             2007\n",
       "V1lat            2007\n",
       "Goblak           2007\n",
       "Dendi            2007\n",
       "DkPhobos         2007\n",
       "ARS-ART          2007\n",
       "LighTofHeaveN    2007\n",
       "Balsam           2007\n",
       "Mirakel          2007\n",
       "Axypa            2007\n",
       "Slahser          2007\n",
       "Pieliedie        2007\n",
       "ComeWithMe       2008\n",
       "Merlini          2008\n",
       "MiSeRy           2008\n",
       "BurNIng          2008\n",
       "SyndereN         2008\n",
       "XBOCT            2009\n",
       "SexyBamboe       2009\n",
       "MMY              2009\n",
       "                 ... \n",
       "Patos            2017\n",
       "KBBQ             2017\n",
       "Nine             2017\n",
       "Dark             2017\n",
       "Axx              2017\n",
       "Taiga            2017\n",
       "Arise            201?\n",
       "C4t              201?\n",
       "Benjaz           201?\n",
       "Boombell         201?\n",
       "Jackal           201?\n",
       "Swifty           201?\n",
       "RR               201?\n",
       "Iceberg          201?\n",
       "NO Chanc3        201?\n",
       "F(x)             201?\n",
       "KoaLa            20??\n",
       "WhiteBeard       20??\n",
       "Zxc              20??\n",
       "Okcya            20??\n",
       "RmN-             20??\n",
       "Admiration       20??\n",
       "WwieWambo        20??\n",
       "PLZDunKilme      ??? \n",
       "Joraal           ????\n",
       "Ysaera           ????\n",
       "BungsellRotee    ????\n",
       "Bubu             ????\n",
       "Crio J           ????\n",
       "Corey            ????\n",
       "Name: join, Length: 759, dtype: object"
      ]
     },
     "execution_count": 37,
     "metadata": {},
     "output_type": "execute_result"
    }
   ],
   "source": [
    "fa['join'].str[:4].sort_values()"
   ]
  },
  {
   "cell_type": "code",
   "execution_count": 50,
   "metadata": {
    "scrolled": true
   },
   "outputs": [],
   "source": [
    "fa2 = pd.to_numeric(fa['join'].str[:4], errors='coerce')"
   ]
  },
  {
   "cell_type": "code",
   "execution_count": 54,
   "metadata": {},
   "outputs": [],
   "source": [
    "fa3 = fa[fa2 > 2013]"
   ]
  },
  {
   "cell_type": "code",
   "execution_count": 55,
   "metadata": {},
   "outputs": [
    {
     "name": "stdout",
     "output_type": "stream",
     "text": [
      "759\n",
      "378\n"
     ]
    }
   ],
   "source": [
    "print(len(fa))\n",
    "print(len(fa3))"
   ]
  },
  {
   "cell_type": "code",
   "execution_count": 59,
   "metadata": {},
   "outputs": [
    {
     "data": {
      "text/html": [
       "<div>\n",
       "<style>\n",
       "    .dataframe thead tr:only-child th {\n",
       "        text-align: right;\n",
       "    }\n",
       "\n",
       "    .dataframe thead th {\n",
       "        text-align: left;\n",
       "    }\n",
       "\n",
       "    .dataframe tbody tr th {\n",
       "        vertical-align: top;\n",
       "    }\n",
       "</style>\n",
       "<table border=\"1\" class=\"dataframe\">\n",
       "  <thead>\n",
       "    <tr style=\"text-align: right;\">\n",
       "      <th></th>\n",
       "      <th>join</th>\n",
       "    </tr>\n",
       "    <tr>\n",
       "      <th>player</th>\n",
       "      <th></th>\n",
       "    </tr>\n",
       "  </thead>\n",
       "  <tbody>\n",
       "    <tr>\n",
       "      <th>.Ark</th>\n",
       "      <td>2014-??-??</td>\n",
       "    </tr>\n",
       "    <tr>\n",
       "      <th>290</th>\n",
       "      <td>2014-03-??</td>\n",
       "    </tr>\n",
       "    <tr>\n",
       "      <th>33</th>\n",
       "      <td>2015-12-19</td>\n",
       "    </tr>\n",
       "    <tr>\n",
       "      <th>4DR</th>\n",
       "      <td>2014-01-03</td>\n",
       "    </tr>\n",
       "    <tr>\n",
       "      <th>86</th>\n",
       "      <td>2015-12-01</td>\n",
       "    </tr>\n",
       "  </tbody>\n",
       "</table>\n",
       "</div>"
      ],
      "text/plain": [
       "              join\n",
       "player            \n",
       ".Ark    2014-??-??\n",
       "290     2014-03-??\n",
       "33      2015-12-19\n",
       "4DR     2014-01-03\n",
       "86      2015-12-01"
      ]
     },
     "execution_count": 59,
     "metadata": {},
     "output_type": "execute_result"
    }
   ],
   "source": [
    "fa3.head()"
   ]
  },
  {
   "cell_type": "code",
   "execution_count": null,
   "metadata": {
    "collapsed": true
   },
   "outputs": [],
   "source": []
  }
 ],
 "metadata": {
  "kernelspec": {
   "display_name": "Python 3",
   "language": "python",
   "name": "python3"
  },
  "language_info": {
   "codemirror_mode": {
    "name": "ipython",
    "version": 3
   },
   "file_extension": ".py",
   "mimetype": "text/x-python",
   "name": "python",
   "nbconvert_exporter": "python",
   "pygments_lexer": "ipython3",
   "version": "3.6.3"
  }
 },
 "nbformat": 4,
 "nbformat_minor": 2
}
