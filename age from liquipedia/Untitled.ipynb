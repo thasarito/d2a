{
 "cells": [
  {
   "cell_type": "code",
   "execution_count": 171,
   "metadata": {
    "collapsed": true
   },
   "outputs": [],
   "source": [
    "import re\n",
    "import requests\n",
    "from bs4 import BeautifulSoup\n",
    "import pandas as pd\n",
    "\n",
    "url = 'http://liquipedia.net/dota2/Captains_Draft/4'\n",
    "\n"
   ]
  },
  {
   "cell_type": "code",
   "execution_count": 175,
   "metadata": {
    "collapsed": false
   },
   "outputs": [],
   "source": [
    "html = requests.get(url)\n",
    "html.encoding = 'utf-8'\n",
    "soup = BeautifulSoup(html.text, \"lxml\")\n",
    "divs = soup.find_all('div', class_=\"teamcard\")\n",
    "df = pd.DataFrame(columns=['teamname', 'player', 'birthday'])"
   ]
  },
  {
   "cell_type": "code",
   "execution_count": 176,
   "metadata": {
    "collapsed": false
   },
   "outputs": [],
   "source": [
    "for div in divs:\n",
    "    center = div.find('center')\n",
    "    teamname = re.search(r'title=\"(.+?)\"', str(center))[1]\n",
    "    for table in div.find_all('table', class_=\"table table-bordered list\"):\n",
    "        for tr in table.find_all('tr'):\n",
    "            string = re.search(r'<th>([12345])</th><td><a.+</a>.+<a href=\"(.+)\" title=\"(.+?)\"', str(tr))\n",
    "            if string is None:\n",
    "                break\n",
    "            url2 = 'http://wiki.teamliquid.net' + string[2]\n",
    "            html2 = requests.get(url2)\n",
    "            html2.encoding = 'utf-8'\n",
    "            bd = BeautifulSoup(html2.text, \"lxml\").find('span', class_='bday')   \n",
    "            if bd is not None:\n",
    "                bday = \"\".join([str(x) for x in bd.contents])\n",
    "            else:\n",
    "                bday = 'N/A'\n",
    "            df = df.append({'teamname': teamname, 'player': string[3], 'birthday': bday}, ignore_index=True)  "
   ]
  },
  {
   "cell_type": "code",
   "execution_count": 174,
   "metadata": {
    "collapsed": false
   },
   "outputs": [
    {
     "data": {
      "text/plain": [
       "[<div class=\"teamcard-inner\"><table class=\"table table-bordered list\" style=\"height: 158px;\"><tr><th>1</th><td><a href=\"/dota2/Category:Canada\" title=\"Canada\"><img alt=\"Canada\" height=\"12\" src=\"/commons/images/4/42/Ca.png\" width=\"18\"/></a> <a href=\"/dota2/Arteezy\" title=\"Arteezy\">Arteezy</a> </td></tr><tr><th>2</th><td><a href=\"/dota2/Category:United_States\" title=\"USA\"><img alt=\"USA\" height=\"12\" src=\"/commons/images/2/2f/Us.png\" width=\"18\"/></a> <a href=\"/dota2/Fear\" title=\"Fear\">Fear</a> </td></tr><tr><th>3</th><td><a href=\"/dota2/Category:Pakistan\" title=\"Pakistan\"><img alt=\"Pakistan\" height=\"12\" src=\"/commons/images/6/68/Pk.png\" width=\"18\"/></a> <a href=\"/dota2/SumaiL\" title=\"SumaiL\">SumaiL</a> </td></tr><tr><th>4</th><td><a href=\"/dota2/Category:Denmark\" title=\"Denmark\"><img alt=\"Denmark\" height=\"12\" src=\"/commons/images/0/06/Dk.png\" width=\"18\"/></a> <a href=\"/dota2/Cr1t-\" title=\"Cr1t-\">Cr1t-</a> </td></tr><tr><th>5</th><td><a href=\"/dota2/Category:Denmark\" title=\"Denmark\"><img alt=\"Denmark\" height=\"12\" src=\"/commons/images/0/06/Dk.png\" width=\"18\"/></a> <a class=\"mw-redirect\" href=\"/dota2/MISERY\" title=\"MISERY\">MISERY</a> </td></tr><tr><th style=\"border-top-width:2px;\"><abbr title=\"Coach\">C</abbr></th><td style=\"border-top-width:2px;\"><a href=\"/dota2/Category:United_States\" title=\"USA\"><img alt=\"USA\" height=\"12\" src=\"/commons/images/2/2f/Us.png\" width=\"18\"/></a> <a href=\"/dota2/BuLba\" title=\"BuLba\">BuLba</a> </td></tr></table><table class=\"table table-bordered logo\"><tr style=\"height: 157px;\"><td><div class=\"center\"><div class=\"floatnone\"><img alt=\"\" height=\"140\" src=\"/commons/images/thumb/1/1a/EG.png/190px-EG.png\" srcset=\"/commons/images/thumb/1/1a/EG.png/285px-EG.png 1.5x, /commons/images/thumb/1/1a/EG.png/380px-EG.png 2x\" width=\"190\"/></div></div></td></tr><tr><td class=\"teamcard-qualifier\" colspan=\"2\">Direct Invite</td></tr></table></div>,\n",
       " <div class=\"teamcard-inner\"><table class=\"table table-bordered list\" style=\"height: 158px;\"><tr><th>1</th><td><a href=\"/dota2/Category:Denmark\" title=\"Denmark\"><img alt=\"Denmark\" height=\"12\" src=\"/commons/images/0/06/Dk.png\" width=\"18\"/></a> <a href=\"/dota2/Ace\" title=\"Ace\">Ace</a> </td></tr><tr><th>2</th><td><a href=\"/dota2/Category:Malaysia\" title=\"Malaysia\"><img alt=\"Malaysia\" height=\"12\" src=\"/commons/images/1/1f/My.png\" width=\"18\"/></a> <a href=\"/dota2/MidOne\" title=\"MidOne\">MidOne</a> </td></tr><tr><th>3</th><td><a href=\"/dota2/Category:Germany\" title=\"Germany\"><img alt=\"Germany\" height=\"12\" src=\"/commons/images/8/8f/De.png\" width=\"18\"/></a> <a href=\"/dota2/Fata\" title=\"Fata\">Fata</a> </td></tr><tr><th>4</th><td><a href=\"/dota2/Category:Jordan\" title=\"Jordan\"><img alt=\"Jordan\" height=\"12\" src=\"/commons/images/2/25/Jo.gif\" width=\"18\"/></a> <a href=\"/dota2/YapzOr\" title=\"YapzOr\">YapzOr</a> </td></tr><tr><th>5</th><td><a href=\"/dota2/Category:Estonia\" title=\"Estonia\"><img alt=\"Estonia\" height=\"12\" src=\"/commons/images/5/5e/Ee.png\" width=\"18\"/></a> <a href=\"/dota2/Puppey\" title=\"Puppey\">Puppey</a> </td></tr><tr><th style=\"border-top-width:2px;\"><abbr title=\"Coach\">C</abbr></th><td style=\"border-top-width:2px;\"><a href=\"/dota2/Category:South_Korea\" title=\"South Korea\"><img alt=\"South Korea\" height=\"12\" src=\"/commons/images/3/36/Kr.png\" width=\"18\"/></a> <a href=\"/dota2/SunBhie\" title=\"SunBhie\">SunBhie</a> </td></tr></table><table class=\"table table-bordered logo\"><tr style=\"height: 157px;\"><td><div class=\"center\"><div class=\"floatnone\"><img alt=\"\" height=\"98\" src=\"/commons/images/thumb/6/6b/Secret_logo.png/190px-Secret_logo.png\" srcset=\"/commons/images/thumb/6/6b/Secret_logo.png/285px-Secret_logo.png 1.5x, /commons/images/thumb/6/6b/Secret_logo.png/380px-Secret_logo.png 2x\" width=\"190\"/></div></div></td></tr><tr><td class=\"teamcard-qualifier\" colspan=\"2\">Direct Invite</td></tr></table></div>,\n",
       " <div class=\"teamcard-inner\"><table class=\"table table-bordered list\" style=\"height: 158px;\"><tr><th>1</th><td><a href=\"/dota2/Category:Sweden\" title=\"Sweden\"><img alt=\"Sweden\" height=\"12\" src=\"/commons/images/d/d0/Se.png\" width=\"18\"/></a> <a href=\"/dota2/Chessie\" title=\"Chessie\">Chessie</a> </td></tr><tr><th>2</th><td><a href=\"/dota2/Category:Sweden\" title=\"Sweden\"><img alt=\"Sweden\" height=\"12\" src=\"/commons/images/d/d0/Se.png\" width=\"18\"/></a> <a href=\"/dota2/Limmp\" title=\"Limmp\">Limmp</a> </td></tr><tr><th>3</th><td><a href=\"/dota2/Category:United_States\" title=\"USA\"><img alt=\"USA\" height=\"12\" src=\"/commons/images/2/2f/Us.png\" width=\"18\"/></a> <a href=\"/dota2/Moo\" title=\"Moo\">Moo</a> </td></tr><tr><th>4</th><td><a href=\"/dota2/Category:United_States\" title=\"USA\"><img alt=\"USA\" height=\"12\" src=\"/commons/images/2/2f/Us.png\" width=\"18\"/></a> <a href=\"/dota2/Zfreek\" title=\"Zfreek\">Zfreek</a> </td></tr><tr><th>5</th><td><a href=\"/dota2/Category:United_States\" title=\"USA\"><img alt=\"USA\" height=\"12\" src=\"/commons/images/2/2f/Us.png\" width=\"18\"/></a> <a href=\"/dota2/Melonzz\" title=\"Melonzz\">melonzz</a> </td></tr></table><table class=\"table table-bordered logo\"><tr style=\"height: 157px;\"><td><div class=\"center\"><div class=\"floatnone\"><img alt=\"\" height=\"114\" src=\"/commons/images/thumb/2/21/Complexity_logo_teamcard.png/190px-Complexity_logo_teamcard.png\" srcset=\"/commons/images/thumb/2/21/Complexity_logo_teamcard.png/285px-Complexity_logo_teamcard.png 1.5x, /commons/images/thumb/2/21/Complexity_logo_teamcard.png/380px-Complexity_logo_teamcard.png 2x\" width=\"190\"/></div></div></td></tr><tr><td class=\"teamcard-qualifier\" colspan=\"2\"><a href=\"/dota2/Captains_Draft/4/North_America\" title=\"Captains Draft/4/North America\">North America Qualifier</a></td></tr></table></div>,\n",
       " <div class=\"teamcard-inner\"><table class=\"table table-bordered list\" style=\"height: 158px;\"><tr><th>1</th><td><a href=\"/dota2/Category:Brazil\" title=\"Brazil\"><img alt=\"Brazil\" height=\"12\" src=\"/commons/images/b/bf/Br.png\" width=\"18\"/></a> <a href=\"/dota2/HFn\" title=\"HFn\">hFn</a> </td></tr><tr><th>2</th><td><a href=\"/dota2/Category:Brazil\" title=\"Brazil\"><img alt=\"Brazil\" height=\"12\" src=\"/commons/images/b/bf/Br.png\" width=\"18\"/></a> <a class=\"mw-redirect\" href=\"/dota2/KINGRD\" title=\"KINGRD\">KINGRD</a> </td></tr><tr><th>3</th><td><a href=\"/dota2/Category:Brazil\" title=\"Brazil\"><img alt=\"Brazil\" height=\"12\" src=\"/commons/images/b/bf/Br.png\" width=\"18\"/></a> <a href=\"/dota2/Tavo\" title=\"Tavo\">tavo</a> </td></tr><tr><th>4</th><td><a href=\"/dota2/Category:Brazil\" title=\"Brazil\"><img alt=\"Brazil\" height=\"12\" src=\"/commons/images/b/bf/Br.png\" width=\"18\"/></a> <a href=\"/dota2/Duster\" title=\"Duster\">Duster</a> </td></tr><tr><th>5</th><td><a href=\"/dota2/Category:Brazil\" title=\"Brazil\"><img alt=\"Brazil\" height=\"12\" src=\"/commons/images/b/bf/Br.png\" width=\"18\"/></a> <a href=\"/dota2/PAADA\" title=\"PAADA\">PAADA</a> </td></tr></table><table class=\"table table-bordered logo\"><tr style=\"height: 157px;\"><td><div class=\"center\"><div class=\"floatnone\"><img alt=\"\" height=\"77\" src=\"/commons/images/thumb/b/bb/PaiN_Gaming_2017.png/190px-PaiN_Gaming_2017.png\" srcset=\"/commons/images/thumb/b/bb/PaiN_Gaming_2017.png/285px-PaiN_Gaming_2017.png 1.5x, /commons/images/thumb/b/bb/PaiN_Gaming_2017.png/380px-PaiN_Gaming_2017.png 2x\" width=\"190\"/></div></div></td></tr><tr><td class=\"teamcard-qualifier\" colspan=\"2\"><a href=\"/dota2/Captains_Draft/4/South_America\" title=\"Captains Draft/4/South America\">South America Qualifier</a></td></tr></table></div>,\n",
       " <div class=\"teamcard-inner\"><table class=\"table table-bordered list\" style=\"height: 158px;\"><tr><th>1</th><td><a href=\"/dota2/Category:Denmark\" title=\"Denmark\"><img alt=\"Denmark\" height=\"12\" src=\"/commons/images/0/06/Dk.png\" width=\"18\"/></a> <a href=\"/dota2/N0tail\" title=\"N0tail\">N0tail</a> </td></tr><tr><th>2</th><td><a href=\"/dota2/Category:Ukraine\" title=\"Ukraine\"><img alt=\"Ukraine\" height=\"12\" src=\"/commons/images/2/2b/Ua.png\" width=\"18\"/></a> <a href=\"/dota2/Resolut1on\" title=\"Resolut1on\">Resolut1on</a> </td></tr><tr><th>3</th><td><a href=\"/dota2/Category:Sweden\" title=\"Sweden\"><img alt=\"Sweden\" height=\"12\" src=\"/commons/images/d/d0/Se.png\" width=\"18\"/></a> <a href=\"/dota2/S4\" title=\"S4\">s4</a> </td></tr><tr><th>4</th><td><a href=\"/dota2/Category:Finland\" title=\"Finland\"><img alt=\"Finland\" height=\"12\" src=\"/commons/images/7/70/Fi.png\" width=\"18\"/></a> <a href=\"/dota2/JerAx\" title=\"JerAx\">JerAx</a> </td></tr><tr><th>5</th><td><a href=\"/dota2/Category:Israel\" title=\"Israel\"><img alt=\"Israel\" height=\"12\" src=\"/commons/images/6/64/Il.gif\" width=\"18\"/></a> <a href=\"/dota2/Fly\" title=\"Fly\">Fly</a> </td></tr><tr><th style=\"border-top-width:2px;\"><abbr title=\"Coach\">C</abbr></th><td style=\"border-top-width:2px;\"><a href=\"/dota2/Category:France\" title=\"France\"><img alt=\"France\" height=\"12\" src=\"/commons/images/4/4b/Fr.png\" width=\"18\"/></a> <a href=\"/dota2/7ckngMad\" title=\"7ckngMad\">7ckngMad</a> </td></tr></table><table class=\"table table-bordered logo\"><tr style=\"height: 157px;\"><td><div class=\"center\"><div class=\"floatnone\"><img alt=\"\" height=\"147\" src=\"/commons/images/thumb/0/00/OG_RB_Logo.png/104px-OG_RB_Logo.png\" srcset=\"/commons/images/thumb/0/00/OG_RB_Logo.png/157px-OG_RB_Logo.png 1.5x, /commons/images/thumb/0/00/OG_RB_Logo.png/208px-OG_RB_Logo.png 2x\" width=\"104\"/></div></div></td></tr><tr><td class=\"teamcard-qualifier\" colspan=\"2\"><a href=\"/dota2/Captains_Draft/4/Europe\" title=\"Captains Draft/4/Europe\">Europe Qualifier</a></td></tr></table></div>,\n",
       " <div class=\"teamcard-inner\"><table class=\"table table-bordered list\" style=\"height: 158px;\"><tr><th>1</th><td><a href=\"/dota2/Category:Russia\" title=\"Russia\"><img alt=\"Russia\" height=\"12\" src=\"/commons/images/f/fb/Ru.png\" width=\"18\"/></a> <a href=\"/dota2/Silent\" title=\"Silent\">Silent</a> </td></tr><tr><th>2</th><td><a href=\"/dota2/Category:Ukraine\" title=\"Ukraine\"><img alt=\"Ukraine\" height=\"12\" src=\"/commons/images/2/2b/Ua.png\" width=\"18\"/></a> <a href=\"/dota2/Fn\" title=\"Fn\">fn</a> </td></tr><tr><th>3</th><td><a href=\"/dota2/Category:Ukraine\" title=\"Ukraine\"><img alt=\"Ukraine\" height=\"12\" src=\"/commons/images/2/2b/Ua.png\" width=\"18\"/></a> <a href=\"/dota2/Ghostik\" title=\"Ghostik\">Ghostik</a> </td></tr><tr><th>4</th><td><a href=\"/dota2/Category:Russia\" title=\"Russia\"><img alt=\"Russia\" height=\"12\" src=\"/commons/images/f/fb/Ru.png\" width=\"18\"/></a> <a href=\"/dota2/Yoky-\" title=\"Yoky-\">yoky-</a> </td></tr><tr><th>5</th><td><a href=\"/dota2/Category:Russia\" title=\"Russia\"><img alt=\"Russia\" height=\"12\" src=\"/commons/images/f/fb/Ru.png\" width=\"18\"/></a> <a href=\"/dota2/Miposhka\" title=\"Miposhka\">Miposhka</a> </td></tr><tr><th style=\"border-top-width:2px;\"><abbr title=\"Coach\">C</abbr></th><td style=\"border-top-width:2px;\"><a href=\"/dota2/Category:Russia\" title=\"Russia\"><img alt=\"Russia\" height=\"12\" src=\"/commons/images/f/fb/Ru.png\" width=\"18\"/></a> <a href=\"/dota2/JotM\" title=\"JotM\">JotM</a> </td></tr></table><table class=\"table table-bordered logo\"><tr style=\"height: 157px;\"><td><div class=\"center\"><div class=\"floatnone\"><img alt=\"\" height=\"147\" src=\"/commons/images/thumb/e/e1/Team_empire.png/113px-Team_empire.png\" srcset=\"/commons/images/thumb/e/e1/Team_empire.png/170px-Team_empire.png 1.5x, /commons/images/thumb/e/e1/Team_empire.png/226px-Team_empire.png 2x\" width=\"113\"/></div></div></td></tr><tr><td class=\"teamcard-qualifier\" colspan=\"2\"><a href=\"/dota2/Captains_Draft/4/CIS\" title=\"Captains Draft/4/CIS\">CIS Qualifier</a></td></tr></table></div>,\n",
       " <div class=\"teamcard-inner\"><table class=\"table table-bordered list\" style=\"height: 158px;\"><tr><th>1</th><td><a href=\"/dota2/Category:China\" title=\"China\"><img alt=\"China\" height=\"12\" src=\"/commons/images/c/cd/Cn.png\" width=\"18\"/></a> <a href=\"/dota2/Paparazi%E7%81%AC\" title=\"Paparazi灬\">Paparazi灬</a> </td></tr><tr><th>2</th><td><a href=\"/dota2/Category:China\" title=\"China\"><img alt=\"China\" height=\"12\" src=\"/commons/images/c/cd/Cn.png\" width=\"18\"/></a> <a href=\"/dota2/Ori\" title=\"Ori\">Ori</a> </td></tr><tr><th>3</th><td><a href=\"/dota2/Category:China\" title=\"China\"><img alt=\"China\" height=\"12\" src=\"/commons/images/c/cd/Cn.png\" width=\"18\"/></a> <a href=\"/dota2/ELeVeN\" title=\"ELeVeN\">eLeVeN</a> </td></tr><tr><th>4</th><td><a href=\"/dota2/Category:China\" title=\"China\"><img alt=\"China\" height=\"12\" src=\"/commons/images/c/cd/Cn.png\" width=\"18\"/></a> <a href=\"/dota2/LaNm\" title=\"LaNm\">LaNm</a> </td></tr><tr><th>5</th><td><a href=\"/dota2/Category:China\" title=\"China\"><img alt=\"China\" height=\"12\" src=\"/commons/images/c/cd/Cn.png\" width=\"18\"/></a> <a href=\"/dota2/Fenrir\" title=\"Fenrir\">Fenrir</a> </td></tr><tr><th style=\"border-top-width:2px;\"><abbr title=\"Coach\">C</abbr></th><td style=\"border-top-width:2px;\"><a href=\"/dota2/Category:China\" title=\"China\"><img alt=\"China\" height=\"12\" src=\"/commons/images/c/cd/Cn.png\" width=\"18\"/></a> <a href=\"/dota2/Mikasa\" title=\"Mikasa\">Mikasa</a> </td></tr></table><table class=\"table table-bordered logo\"><tr style=\"height: 157px;\"><td><div class=\"center\"><div class=\"floatnone\"><img alt=\"\" height=\"147\" src=\"/commons/images/thumb/9/9e/VICI_Gaming_notext.png/147px-VICI_Gaming_notext.png\" srcset=\"/commons/images/thumb/9/9e/VICI_Gaming_notext.png/221px-VICI_Gaming_notext.png 1.5x, /commons/images/thumb/9/9e/VICI_Gaming_notext.png/294px-VICI_Gaming_notext.png 2x\" width=\"147\"/></div></div></td></tr><tr><td class=\"teamcard-qualifier\" colspan=\"2\"><a href=\"/dota2/Captains_Draft/4/China\" title=\"Captains Draft/4/China\">China Qualifier</a></td></tr></table></div>,\n",
       " <div class=\"teamcard-inner\"><table class=\"table table-bordered list\" style=\"height: 158px;\"><tr><th>1</th><td><a href=\"/dota2/Category:Malaysia\" title=\"Malaysia\"><img alt=\"Malaysia\" height=\"12\" src=\"/commons/images/1/1f/My.png\" width=\"18\"/></a> <a href=\"/dota2/Mushi\" title=\"Mushi\">Mushi</a> </td></tr><tr><th>2</th><td><a href=\"/dota2/Category:Malaysia\" title=\"Malaysia\"><img alt=\"Malaysia\" height=\"12\" src=\"/commons/images/1/1f/My.png\" width=\"18\"/></a> <a href=\"/dota2/NaNa\" title=\"NaNa\">NaNa</a> </td></tr><tr><th>3</th><td><a href=\"/dota2/Category:Singapore\" title=\"Singapore\"><img alt=\"Singapore\" height=\"12\" src=\"/commons/images/5/5f/Sg.png\" width=\"18\"/></a> <a href=\"/dota2/Iceiceice\" title=\"Iceiceice\">iceiceice</a> </td></tr><tr><th>4</th><td><a href=\"/dota2/Category:Thailand\" title=\"Thailand\"><img alt=\"Thailand\" height=\"12\" src=\"/commons/images/0/06/Th.png\" width=\"18\"/></a> <a href=\"/dota2/Jabz\" title=\"Jabz\">Jabz</a> </td></tr><tr><th>5</th><td><a href=\"/dota2/Category:Philippines\" title=\"Philippines\"><img alt=\"Philippines\" height=\"12\" src=\"/commons/images/a/a4/Ph.png\" width=\"18\"/></a> <a href=\"/dota2/Ninjaboogie\" title=\"Ninjaboogie\">ninjaboogie</a> </td></tr><tr><th style=\"border-top-width:2px;\"><abbr title=\"Coach\">C</abbr></th><td style=\"border-top-width:2px;\"><a href=\"/dota2/Category:Malaysia\" title=\"Malaysia\"><img alt=\"Malaysia\" height=\"12\" src=\"/commons/images/1/1f/My.png\" width=\"18\"/></a> <a href=\"/dota2/WinteR\" title=\"WinteR\">WinteR</a> </td></tr></table><table class=\"table table-bordered logo\"><tr style=\"height: 157px;\"><td><div class=\"center\"><div class=\"floatnone\"><img alt=\"\" height=\"147\" src=\"/commons/images/thumb/a/a6/Mineski-dota_logo.png/147px-Mineski-dota_logo.png\" srcset=\"/commons/images/thumb/a/a6/Mineski-dota_logo.png/221px-Mineski-dota_logo.png 1.5x, /commons/images/thumb/a/a6/Mineski-dota_logo.png/294px-Mineski-dota_logo.png 2x\" width=\"147\"/></div></div></td></tr><tr><td class=\"teamcard-qualifier\" colspan=\"2\"><a href=\"/dota2/Captains_Draft/4/Southeast_Asia\" title=\"Captains Draft/4/Southeast Asia\">Southeast Asia Qualifier</a></td></tr></table></div>]"
      ]
     },
     "execution_count": 174,
     "metadata": {},
     "output_type": "execute_result"
    }
   ],
   "source": [
    "divs"
   ]
  },
  {
   "cell_type": "code",
   "execution_count": 162,
   "metadata": {
    "collapsed": false
   },
   "outputs": [
    {
     "data": {
      "text/html": [
       "<div>\n",
       "<table border=\"1\" class=\"dataframe\">\n",
       "  <thead>\n",
       "    <tr style=\"text-align: right;\">\n",
       "      <th></th>\n",
       "      <th>teamname</th>\n",
       "      <th>player</th>\n",
       "      <th>birthday</th>\n",
       "    </tr>\n",
       "  </thead>\n",
       "  <tbody>\n",
       "  </tbody>\n",
       "</table>\n",
       "</div>"
      ],
      "text/plain": [
       "Empty DataFrame\n",
       "Columns: [teamname, player, birthday]\n",
       "Index: []"
      ]
     },
     "execution_count": 162,
     "metadata": {},
     "output_type": "execute_result"
    }
   ],
   "source": [
    "df"
   ]
  },
  {
   "cell_type": "code",
   "execution_count": 163,
   "metadata": {
    "collapsed": false
   },
   "outputs": [
    {
     "ename": "IndexError",
     "evalue": "list index out of range",
     "output_type": "error",
     "traceback": [
      "\u001b[0;31m---------------------------------------------------------------------------\u001b[0m",
      "\u001b[0;31mIndexError\u001b[0m                                Traceback (most recent call last)",
      "\u001b[0;32m<ipython-input-163-74336d9fc4a8>\u001b[0m in \u001b[0;36m<module>\u001b[0;34m()\u001b[0m\n\u001b[0;32m----> 1\u001b[0;31m \u001b[0mtr\u001b[0m \u001b[1;33m=\u001b[0m \u001b[0mdivs\u001b[0m\u001b[1;33m[\u001b[0m\u001b[1;33m-\u001b[0m\u001b[1;36m1\u001b[0m\u001b[1;33m]\u001b[0m\u001b[1;33m.\u001b[0m\u001b[0mfind_all\u001b[0m\u001b[1;33m(\u001b[0m\u001b[1;34m'table'\u001b[0m\u001b[1;33m,\u001b[0m \u001b[0mclass_\u001b[0m\u001b[1;33m=\u001b[0m\u001b[1;34m\"table table-bordered list\"\u001b[0m\u001b[1;33m)\u001b[0m\u001b[1;33m[\u001b[0m\u001b[1;33m-\u001b[0m\u001b[1;36m1\u001b[0m\u001b[1;33m]\u001b[0m\u001b[1;33m.\u001b[0m\u001b[0mfind_all\u001b[0m\u001b[1;33m(\u001b[0m\u001b[1;34m'tr'\u001b[0m\u001b[1;33m)\u001b[0m\u001b[1;33m\u001b[0m\u001b[0m\n\u001b[0m\u001b[1;32m      2\u001b[0m \u001b[0mtr\u001b[0m\u001b[1;33m\u001b[0m\u001b[0m\n",
      "\u001b[0;31mIndexError\u001b[0m: list index out of range"
     ]
    }
   ],
   "source": [
    "tr = divs[-1].find_all('table', class_=\"table table-bordered list\")[-1].find_all('tr')\n",
    "tr"
   ]
  },
  {
   "cell_type": "code",
   "execution_count": 131,
   "metadata": {
    "collapsed": false
   },
   "outputs": [
    {
     "data": {
      "text/plain": [
       "'Infamous'"
      ]
     },
     "execution_count": 131,
     "metadata": {},
     "output_type": "execute_result"
    }
   ],
   "source": [
    "center = divs[-1].find('center')\n",
    "teamname = re.search(r'title=\"(.+?)\"', str(center))[1]\n",
    "teamname"
   ]
  },
  {
   "cell_type": "code",
   "execution_count": 132,
   "metadata": {
    "collapsed": true
   },
   "outputs": [],
   "source": [
    "string = re.search(r'<th>([12345])</th><td><a.+</a>.+<a href=\"(.+)\" title=\"(.+?)\"', str(tr))"
   ]
  },
  {
   "cell_type": "code",
   "execution_count": 133,
   "metadata": {
    "collapsed": false
   },
   "outputs": [
    {
     "data": {
      "text/plain": [
       "'Accel'"
      ]
     },
     "execution_count": 133,
     "metadata": {},
     "output_type": "execute_result"
    }
   ],
   "source": [
    "string[3]"
   ]
  },
  {
   "cell_type": "code",
   "execution_count": 145,
   "metadata": {
    "collapsed": false
   },
   "outputs": [
    {
     "data": {
      "text/html": [
       "<div>\n",
       "<table border=\"1\" class=\"dataframe\">\n",
       "  <thead>\n",
       "    <tr style=\"text-align: right;\">\n",
       "      <th></th>\n",
       "      <th>teamname</th>\n",
       "      <th>player</th>\n",
       "      <th>birthday</th>\n",
       "    </tr>\n",
       "  </thead>\n",
       "  <tbody>\n",
       "    <tr>\n",
       "      <th>0</th>\n",
       "      <td>OG</td>\n",
       "      <td>Ana</td>\n",
       "      <td>1999-10-26</td>\n",
       "    </tr>\n",
       "  </tbody>\n",
       "</table>\n",
       "</div>"
      ],
      "text/plain": [
       "  teamname player    birthday\n",
       "0       OG    Ana  1999-10-26"
      ]
     },
     "execution_count": 145,
     "metadata": {},
     "output_type": "execute_result"
    }
   ],
   "source": [
    "center = divs[0].find('center')\n",
    "teamname = re.search(r'title=\"(.+?)\"', str(center))[1]\n",
    "tr = divs[0].find_all('table', class_=\"table table-bordered list\")[0].find_all('tr')\n",
    "string = re.search(r'<th>([12345])</th><td><a.+</a>.+<a href=\"(.+)\" title=\"(.+?)\"', str(tr[1]))\n",
    "url2 = 'http://wiki.teamliquid.net' + string[2]\n",
    "html2 = requests.get(url2)\n",
    "html2.encoding = 'utf-8'\n",
    "bd = BeautifulSoup(html2.text, \"lxml\").find('span', class_='bday')   \n",
    "if bd is not None:\n",
    "    bday = \"\".join([str(x) for x in bd.contents])\n",
    "else:\n",
    "    bday = 'N/A'\n",
    "df.append({'teamname': teamname, 'player': string[3], 'birthday': bday}, ignore_index=True)  "
   ]
  },
  {
   "cell_type": "code",
   "execution_count": 144,
   "metadata": {
    "collapsed": false
   },
   "outputs": [
    {
     "data": {
      "text/plain": [
       "[<tr><th>1</th><td><a href=\"/dota2/Category:Denmark\" title=\"Denmark\"><img alt=\"Denmark\" height=\"12\" src=\"/commons/images/0/06/Dk.png\" width=\"18\"/></a> <a href=\"/dota2/N0tail\" title=\"N0tail\">n0tail</a> </td></tr>,\n",
       " <tr><th>2</th><td><a href=\"/dota2/Category:Australia\" title=\"Australia\"><img alt=\"Australia\" height=\"12\" src=\"/commons/images/e/e6/Au.png\" width=\"18\"/></a> <a href=\"/dota2/Ana\" title=\"Ana\">ana</a> </td></tr>,\n",
       " <tr><th>3</th><td><a href=\"/dota2/Category:Sweden\" title=\"Sweden\"><img alt=\"Sweden\" height=\"12\" src=\"/commons/images/d/d0/Se.png\" width=\"18\"/></a> <a href=\"/dota2/S4\" title=\"S4\">s4</a> </td></tr>,\n",
       " <tr><th>4</th><td><a href=\"/dota2/Category:Finland\" title=\"Finland\"><img alt=\"Finland\" height=\"12\" src=\"/commons/images/7/70/Fi.png\" width=\"18\"/></a> <a href=\"/dota2/JerAx\" title=\"JerAx\">JerAx</a> </td></tr>,\n",
       " <tr><th>5</th><td><a href=\"/dota2/Category:Israel\" title=\"Israel\"><img alt=\"Israel\" height=\"12\" src=\"/commons/images/6/64/Il.gif\" width=\"18\"/></a> <a href=\"/dota2/Fly\" title=\"Fly\">Fly</a> </td></tr>,\n",
       " <tr><th style=\"border-top-width:2px;\"><abbr title=\"Coach\">C</abbr></th><td style=\"border-top-width:2px;\"><a href=\"/dota2/Category:France\" title=\"France\"><img alt=\"France\" height=\"12\" src=\"/commons/images/4/4b/Fr.png\" width=\"18\"/></a> <a href=\"/dota2/7ckngMad\" title=\"7ckngMad\">7ckngMad</a> </td></tr>,\n",
       " <tr><td class=\"teamcard-placement\" colspan=\"2\">\n",
       " <table class=\"teamcard-placement-table\">\n",
       " <tr>\n",
       " <td align=\"center\" bgcolor=\"#166F82\"><span style=\"display:none;\">A9</span><font color=\"white\" style=\"text-shadow: 1px 1px rgba(64, 64, 64, 0.4), 1px -1px rgba(64, 64, 64, 0.4), -1px -1px rgba(64, 64, 64, 0.4), -1px 1px rgba(64, 64, 64, 0.4);\"><b>9 - 12th</b></font> <span class=\"league-icon-small-image\"><a href=\"/dota2/The_International_2016\" title=\"The International 2016\"><img alt=\"The International 2016\" height=\"50\" src=\"/commons/images/d/d6/TheInternationalSmall.png\" width=\"50\"/></a></span>\n",
       " </td></tr></table>\n",
       " </td></tr>,\n",
       " <tr>\n",
       " <td align=\"center\" bgcolor=\"#166F82\"><span style=\"display:none;\">A9</span><font color=\"white\" style=\"text-shadow: 1px 1px rgba(64, 64, 64, 0.4), 1px -1px rgba(64, 64, 64, 0.4), -1px -1px rgba(64, 64, 64, 0.4), -1px 1px rgba(64, 64, 64, 0.4);\"><b>9 - 12th</b></font> <span class=\"league-icon-small-image\"><a href=\"/dota2/The_International_2016\" title=\"The International 2016\"><img alt=\"The International 2016\" height=\"50\" src=\"/commons/images/d/d6/TheInternationalSmall.png\" width=\"50\"/></a></span>\n",
       " </td></tr>,\n",
       " <tr><td class=\"teamcard-preview\" colspan=\"2\"><a class=\"external text\" href=\"http://www.liquiddota.com/forum/ti7/525070-the-international-2017-og\" rel=\"noreferrer noopener\" target=\"_blank\">Preview</a></td></tr>]"
      ]
     },
     "execution_count": 144,
     "metadata": {},
     "output_type": "execute_result"
    }
   ],
   "source": [
    "tr"
   ]
  },
  {
   "cell_type": "code",
   "execution_count": 135,
   "metadata": {
    "collapsed": false,
    "scrolled": true
   },
   "outputs": [
    {
     "data": {
      "text/plain": [
       "<div class=\"col-xl-2 col-sm-4 col-xs-12\">\n",
       "<div class=\"teamcard\"><center><b><a href=\"/dota2/Infamous\" title=\"Infamous\">Infamous</a></b></center><div class=\"teamcard-inner\"><table class=\"table table-bordered list\" style=\"height: 214px;\"><tr><th>1</th><td><a href=\"/dota2/Category:Peru\" title=\"Peru\"><img alt=\"Peru\" height=\"12\" src=\"/commons/images/9/90/Pe.png\" width=\"18\"/></a> <a href=\"/dota2/Benjaz\" title=\"Benjaz\">Benjaz</a> </td></tr><tr><th>2</th><td><a href=\"/dota2/Category:Peru\" title=\"Peru\"><img alt=\"Peru\" height=\"12\" src=\"/commons/images/9/90/Pe.png\" width=\"18\"/></a> <a href=\"/dota2/Timado\" title=\"Timado\">Timado</a> </td></tr><tr><th>3</th><td><a href=\"/dota2/Category:Peru\" title=\"Peru\"><img alt=\"Peru\" height=\"12\" src=\"/commons/images/9/90/Pe.png\" width=\"18\"/></a> <a href=\"/dota2/Kingteka\" title=\"Kingteka\">Kingteka</a> </td></tr><tr><th>4</th><td><a href=\"/dota2/Category:Peru\" title=\"Peru\"><img alt=\"Peru\" height=\"12\" src=\"/commons/images/9/90/Pe.png\" width=\"18\"/></a> <a href=\"/dota2/Matthew\" title=\"Matthew\">Matthew</a> </td></tr><tr><th>5</th><td><a href=\"/dota2/Category:Peru\" title=\"Peru\"><img alt=\"Peru\" height=\"12\" src=\"/commons/images/9/90/Pe.png\" width=\"18\"/></a> <a href=\"/dota2/Accel\" title=\"Accel\">Accel</a> </td></tr><tr><td class=\"teamcard-placement\" colspan=\"2\">\n",
       "<table class=\"teamcard-placement-table\">\n",
       "<tr>\n",
       "<td align=\"center\"><span style=\"display:none;\">Y</span>-\n",
       "</td></tr></table>\n",
       "</td></tr><tr><td class=\"teamcard-preview\" colspan=\"2\"><a class=\"external text\" href=\"http://www.liquiddota.com/forum/ti7/524955-the-international-2017-infamous\" rel=\"noreferrer noopener\" target=\"_blank\">Preview</a></td></tr></table><table class=\"table table-bordered logo\"><tr style=\"height: 213px;\"><td><div class=\"center\"><div class=\"floatnone\"><img alt=\"\" height=\"190\" src=\"/commons/images/thumb/5/5a/LOGO-INFAMOUS-COMERCIAL.png/190px-LOGO-INFAMOUS-COMERCIAL.png\" srcset=\"/commons/images/thumb/5/5a/LOGO-INFAMOUS-COMERCIAL.png/285px-LOGO-INFAMOUS-COMERCIAL.png 1.5x, /commons/images/thumb/5/5a/LOGO-INFAMOUS-COMERCIAL.png/380px-LOGO-INFAMOUS-COMERCIAL.png 2x\" width=\"190\"/></div></div></td></tr><tr><td class=\"teamcard-qualifier\" colspan=\"2\"><a href=\"/dota2/The_International/2017/Main_Qualifiers/South_America\" title=\"The International/2017/Main Qualifiers/South America\">South America Qualifier</a></td></tr></table></div></div>\n",
       "</div>"
      ]
     },
     "execution_count": 135,
     "metadata": {},
     "output_type": "execute_result"
    }
   ],
   "source": [
    "divs[-1]"
   ]
  },
  {
   "cell_type": "code",
   "execution_count": 35,
   "metadata": {
    "collapsed": false,
    "scrolled": false
   },
   "outputs": [
    {
     "data": {
      "text/plain": [
       "[<table class=\"table table-bordered list\" style=\"height: 214px;\"><tr><th>1</th><td><a href=\"/dota2/Category:Denmark\" title=\"Denmark\"><img alt=\"Denmark\" height=\"12\" src=\"/commons/images/0/06/Dk.png\" width=\"18\"/></a> <a href=\"/dota2/N0tail\" title=\"N0tail\">n0tail</a> </td></tr><tr><th>2</th><td><a href=\"/dota2/Category:Australia\" title=\"Australia\"><img alt=\"Australia\" height=\"12\" src=\"/commons/images/e/e6/Au.png\" width=\"18\"/></a> <a href=\"/dota2/Ana\" title=\"Ana\">ana</a> </td></tr><tr><th>3</th><td><a href=\"/dota2/Category:Sweden\" title=\"Sweden\"><img alt=\"Sweden\" height=\"12\" src=\"/commons/images/d/d0/Se.png\" width=\"18\"/></a> <a href=\"/dota2/S4\" title=\"S4\">s4</a> </td></tr><tr><th>4</th><td><a href=\"/dota2/Category:Finland\" title=\"Finland\"><img alt=\"Finland\" height=\"12\" src=\"/commons/images/7/70/Fi.png\" width=\"18\"/></a> <a href=\"/dota2/JerAx\" title=\"JerAx\">JerAx</a> </td></tr><tr><th>5</th><td><a href=\"/dota2/Category:Israel\" title=\"Israel\"><img alt=\"Israel\" height=\"12\" src=\"/commons/images/6/64/Il.gif\" width=\"18\"/></a> <a href=\"/dota2/Fly\" title=\"Fly\">Fly</a> </td></tr><tr><th style=\"border-top-width:2px;\"><abbr title=\"Coach\">C</abbr></th><td style=\"border-top-width:2px;\"><a href=\"/dota2/Category:France\" title=\"France\"><img alt=\"France\" height=\"12\" src=\"/commons/images/4/4b/Fr.png\" width=\"18\"/></a> <a href=\"/dota2/7ckngMad\" title=\"7ckngMad\">7ckngMad</a> </td></tr><tr><td class=\"teamcard-placement\" colspan=\"2\">\n",
       " <table class=\"teamcard-placement-table\">\n",
       " <tr>\n",
       " <td align=\"center\" bgcolor=\"#166F82\"><span style=\"display:none;\">A9</span><font color=\"white\" style=\"text-shadow: 1px 1px rgba(64, 64, 64, 0.4), 1px -1px rgba(64, 64, 64, 0.4), -1px -1px rgba(64, 64, 64, 0.4), -1px 1px rgba(64, 64, 64, 0.4);\"><b>9 - 12th</b></font> <span class=\"league-icon-small-image\"><a href=\"/dota2/The_International_2016\" title=\"The International 2016\"><img alt=\"The International 2016\" height=\"50\" src=\"/commons/images/d/d6/TheInternationalSmall.png\" width=\"50\"/></a></span>\n",
       " </td></tr></table>\n",
       " </td></tr><tr><td class=\"teamcard-preview\" colspan=\"2\"><a class=\"external text\" href=\"http://www.liquiddota.com/forum/ti7/525070-the-international-2017-og\" rel=\"noreferrer noopener\" target=\"_blank\">Preview</a></td></tr></table>]"
      ]
     },
     "execution_count": 35,
     "metadata": {},
     "output_type": "execute_result"
    }
   ],
   "source": [
    "tables = divs[0].find_all('table', class_=\"table table-bordered list\")\n",
    "tables"
   ]
  },
  {
   "cell_type": "code",
   "execution_count": 36,
   "metadata": {
    "collapsed": true
   },
   "outputs": [],
   "source": [
    "center = divs[0].find('center')"
   ]
  },
  {
   "cell_type": "code",
   "execution_count": 37,
   "metadata": {
    "collapsed": false
   },
   "outputs": [
    {
     "data": {
      "text/plain": [
       "<center><b><a href=\"/dota2/OG\" title=\"OG\">OG</a></b></center>"
      ]
     },
     "execution_count": 37,
     "metadata": {},
     "output_type": "execute_result"
    }
   ],
   "source": [
    "center"
   ]
  },
  {
   "cell_type": "code",
   "execution_count": 38,
   "metadata": {
    "collapsed": false
   },
   "outputs": [
    {
     "data": {
      "text/plain": [
       "'OG'"
      ]
     },
     "execution_count": 38,
     "metadata": {},
     "output_type": "execute_result"
    }
   ],
   "source": [
    "teamname = re.search(r'title=\"(.+?)\"', str(center))[1]\n",
    "teamname"
   ]
  },
  {
   "cell_type": "code",
   "execution_count": 47,
   "metadata": {
    "collapsed": false
   },
   "outputs": [
    {
     "data": {
      "text/html": [
       "<div>\n",
       "<table border=\"1\" class=\"dataframe\">\n",
       "  <thead>\n",
       "    <tr style=\"text-align: right;\">\n",
       "      <th></th>\n",
       "      <th>Teamname</th>\n",
       "      <th>Player</th>\n",
       "    </tr>\n",
       "  </thead>\n",
       "  <tbody>\n",
       "    <tr>\n",
       "      <th>0</th>\n",
       "      <td>OG</td>\n",
       "      <td>Notail</td>\n",
       "    </tr>\n",
       "  </tbody>\n",
       "</table>\n",
       "</div>"
      ],
      "text/plain": [
       "  Teamname  Player\n",
       "0       OG  Notail"
      ]
     },
     "execution_count": 47,
     "metadata": {},
     "output_type": "execute_result"
    }
   ],
   "source": [
    "df.append({'Teamname': teamname, 'Player': 'Notail'}, ignore_index=True)"
   ]
  },
  {
   "cell_type": "code",
   "execution_count": 50,
   "metadata": {
    "collapsed": false
   },
   "outputs": [
    {
     "data": {
      "text/plain": [
       "<tr><th>1</th><td><a href=\"/dota2/Category:Denmark\" title=\"Denmark\"><img alt=\"Denmark\" height=\"12\" src=\"/commons/images/0/06/Dk.png\" width=\"18\"/></a> <a href=\"/dota2/N0tail\" title=\"N0tail\">n0tail</a> </td></tr>"
      ]
     },
     "execution_count": 50,
     "metadata": {},
     "output_type": "execute_result"
    }
   ],
   "source": [
    "trs = tables[0].find_all('tr')\n",
    "trs[0]"
   ]
  },
  {
   "cell_type": "code",
   "execution_count": 55,
   "metadata": {
    "collapsed": false
   },
   "outputs": [
    {
     "data": {
      "text/plain": [
       "<_sre.SRE_Match object; span=(4, 188), match='<th>1</th><td><a href=\"/dota2/Category:Denmark\" t>"
      ]
     },
     "execution_count": 55,
     "metadata": {},
     "output_type": "execute_result"
    }
   ],
   "source": [
    "string = re.search(r'<th>([12345])</th><td><a.+</a>.+<a href=\"(.+)\" title=\"(.+?)\"', str(trs[0]))\n",
    "string"
   ]
  },
  {
   "cell_type": "code",
   "execution_count": 61,
   "metadata": {
    "collapsed": false
   },
   "outputs": [
    {
     "data": {
      "text/plain": [
       "'N0tail'"
      ]
     },
     "execution_count": 61,
     "metadata": {},
     "output_type": "execute_result"
    }
   ],
   "source": [
    "string[3]"
   ]
  },
  {
   "cell_type": "code",
   "execution_count": 62,
   "metadata": {
    "collapsed": true
   },
   "outputs": [],
   "source": [
    "url2 = 'http://wiki.teamliquid.net' + string[2]\n",
    "html2 = requests.get(url2)\n",
    "html2.encoding = 'utf-8'\n",
    "bd = BeautifulSoup(html2.text, \"lxml\").find('span', class_='bday')             "
   ]
  },
  {
   "cell_type": "code",
   "execution_count": 64,
   "metadata": {
    "collapsed": false
   },
   "outputs": [],
   "source": [
    "if bd is not None:\n",
    "    bday = \"\".join([str(x) for x in bd.contents])\n",
    "else:\n",
    "    bday = 'N/A'"
   ]
  },
  {
   "cell_type": "code",
   "execution_count": 65,
   "metadata": {
    "collapsed": false
   },
   "outputs": [
    {
     "data": {
      "text/plain": [
       "'1993-10-08'"
      ]
     },
     "execution_count": 65,
     "metadata": {},
     "output_type": "execute_result"
    }
   ],
   "source": [
    "bday"
   ]
  },
  {
   "cell_type": "code",
   "execution_count": null,
   "metadata": {
    "collapsed": true
   },
   "outputs": [],
   "source": []
  }
 ],
 "metadata": {
  "kernelspec": {
   "display_name": "Python 3",
   "language": "python",
   "name": "python3"
  },
  "language_info": {
   "codemirror_mode": {
    "name": "ipython",
    "version": 3
   },
   "file_extension": ".py",
   "mimetype": "text/x-python",
   "name": "python",
   "nbconvert_exporter": "python",
   "pygments_lexer": "ipython3",
   "version": "3.6.0"
  }
 },
 "nbformat": 4,
 "nbformat_minor": 2
}
