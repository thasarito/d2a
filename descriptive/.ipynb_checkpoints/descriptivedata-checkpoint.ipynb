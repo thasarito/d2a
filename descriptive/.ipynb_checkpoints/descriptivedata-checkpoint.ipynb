{
 "cells": [
  {
   "cell_type": "code",
   "execution_count": 22,
   "metadata": {
    "collapsed": true,
    "slideshow": {
     "slide_type": "skip"
    }
   },
   "outputs": [],
   "source": [
    "%matplotlib inline\n",
    "# data analysis and wrangling\n",
    "import pandas as pd\n",
    "import numpy as np\n",
    "import random as rnd\n",
    "\n",
    "# visualization\n",
    "import seaborn as sns\n",
    "import matplotlib.pyplot as plt"
   ]
  },
  {
   "cell_type": "code",
   "execution_count": 23,
   "metadata": {
    "collapsed": false,
    "slideshow": {
     "slide_type": "fragment"
    }
   },
   "outputs": [
    {
     "data": {
      "text/plain": [
       "team                  object\n",
       "player                object\n",
       "position               int64\n",
       "dob           datetime64[ns]\n",
       "tour                  object\n",
       "start         datetime64[ns]\n",
       "end           datetime64[ns]\n",
       "place                  int64\n",
       "prize                float64\n",
       "startelo64           float64\n",
       "endelo64             float64\n",
       "dtype: object"
      ]
     },
     "execution_count": 23,
     "metadata": {},
     "output_type": "execute_result"
    }
   ],
   "source": [
    "df = pd.read_csv('data.csv', encoding = \"ISO-8859-1\")\n",
    "\n",
    "#convert day to datetime type\n",
    "df.start = pd.to_datetime(df.start)\n",
    "df.end = pd.to_datetime(df.end)\n",
    "df.dob = pd.to_datetime(df.dob)\n",
    "df.dtypes"
   ]
  },
  {
   "cell_type": "code",
   "execution_count": 24,
   "metadata": {
    "collapsed": false,
    "slideshow": {
     "slide_type": "slide"
    }
   },
   "outputs": [
    {
     "data": {
      "text/html": [
       "<div>\n",
       "<table border=\"1\" class=\"dataframe\">\n",
       "  <thead>\n",
       "    <tr style=\"text-align: right;\">\n",
       "      <th></th>\n",
       "      <th>team</th>\n",
       "      <th>player</th>\n",
       "      <th>position</th>\n",
       "      <th>dob</th>\n",
       "      <th>tour</th>\n",
       "      <th>start</th>\n",
       "      <th>end</th>\n",
       "      <th>place</th>\n",
       "      <th>prize</th>\n",
       "      <th>startelo64</th>\n",
       "      <th>endelo64</th>\n",
       "    </tr>\n",
       "  </thead>\n",
       "  <tbody>\n",
       "    <tr>\n",
       "      <th>0</th>\n",
       "      <td>Infamous</td>\n",
       "      <td>kotarhayama</td>\n",
       "      <td>1</td>\n",
       "      <td>1997-01-31</td>\n",
       "      <td>Galaxy Battles II: Emerging Worlds</td>\n",
       "      <td>2018-01-19</td>\n",
       "      <td>2018-01-21</td>\n",
       "      <td>7</td>\n",
       "      <td>20000.0</td>\n",
       "      <td>1172.69492</td>\n",
       "      <td>1170.334653</td>\n",
       "    </tr>\n",
       "    <tr>\n",
       "      <th>1</th>\n",
       "      <td>Infamous</td>\n",
       "      <td>papita</td>\n",
       "      <td>2</td>\n",
       "      <td>1995-01-19</td>\n",
       "      <td>Galaxy Battles II: Emerging Worlds</td>\n",
       "      <td>2018-01-19</td>\n",
       "      <td>2018-01-21</td>\n",
       "      <td>7</td>\n",
       "      <td>20000.0</td>\n",
       "      <td>1172.69492</td>\n",
       "      <td>1170.334653</td>\n",
       "    </tr>\n",
       "    <tr>\n",
       "      <th>2</th>\n",
       "      <td>Infamous</td>\n",
       "      <td>stinger</td>\n",
       "      <td>3</td>\n",
       "      <td>1996-12-15</td>\n",
       "      <td>Galaxy Battles II: Emerging Worlds</td>\n",
       "      <td>2018-01-19</td>\n",
       "      <td>2018-01-21</td>\n",
       "      <td>7</td>\n",
       "      <td>20000.0</td>\n",
       "      <td>1172.69492</td>\n",
       "      <td>1170.334653</td>\n",
       "    </tr>\n",
       "    <tr>\n",
       "      <th>3</th>\n",
       "      <td>Infamous</td>\n",
       "      <td>scofield</td>\n",
       "      <td>4</td>\n",
       "      <td>1998-04-29</td>\n",
       "      <td>Galaxy Battles II: Emerging Worlds</td>\n",
       "      <td>2018-01-19</td>\n",
       "      <td>2018-01-21</td>\n",
       "      <td>7</td>\n",
       "      <td>20000.0</td>\n",
       "      <td>1172.69492</td>\n",
       "      <td>1170.334653</td>\n",
       "    </tr>\n",
       "    <tr>\n",
       "      <th>4</th>\n",
       "      <td>Infamous</td>\n",
       "      <td>masoku</td>\n",
       "      <td>5</td>\n",
       "      <td>NaT</td>\n",
       "      <td>Galaxy Battles II: Emerging Worlds</td>\n",
       "      <td>2018-01-19</td>\n",
       "      <td>2018-01-21</td>\n",
       "      <td>7</td>\n",
       "      <td>20000.0</td>\n",
       "      <td>1172.69492</td>\n",
       "      <td>1170.334653</td>\n",
       "    </tr>\n",
       "  </tbody>\n",
       "</table>\n",
       "</div>"
      ],
      "text/plain": [
       "       team       player  position        dob  \\\n",
       "0  Infamous  kotarhayama         1 1997-01-31   \n",
       "1  Infamous       papita         2 1995-01-19   \n",
       "2  Infamous      stinger         3 1996-12-15   \n",
       "3  Infamous     scofield         4 1998-04-29   \n",
       "4  Infamous       masoku         5        NaT   \n",
       "\n",
       "                                 tour      start        end  place    prize  \\\n",
       "0  Galaxy Battles II: Emerging Worlds 2018-01-19 2018-01-21      7  20000.0   \n",
       "1  Galaxy Battles II: Emerging Worlds 2018-01-19 2018-01-21      7  20000.0   \n",
       "2  Galaxy Battles II: Emerging Worlds 2018-01-19 2018-01-21      7  20000.0   \n",
       "3  Galaxy Battles II: Emerging Worlds 2018-01-19 2018-01-21      7  20000.0   \n",
       "4  Galaxy Battles II: Emerging Worlds 2018-01-19 2018-01-21      7  20000.0   \n",
       "\n",
       "   startelo64     endelo64  \n",
       "0  1172.69492  1170.334653  \n",
       "1  1172.69492  1170.334653  \n",
       "2  1172.69492  1170.334653  \n",
       "3  1172.69492  1170.334653  \n",
       "4  1172.69492  1170.334653  "
      ]
     },
     "execution_count": 24,
     "metadata": {},
     "output_type": "execute_result"
    }
   ],
   "source": [
    "df.head()"
   ]
  },
  {
   "cell_type": "code",
   "execution_count": 25,
   "metadata": {
    "collapsed": false,
    "slideshow": {
     "slide_type": "subslide"
    }
   },
   "outputs": [
    {
     "data": {
      "text/html": [
       "<div>\n",
       "<table border=\"1\" class=\"dataframe\">\n",
       "  <thead>\n",
       "    <tr style=\"text-align: right;\">\n",
       "      <th></th>\n",
       "      <th>position</th>\n",
       "      <th>place</th>\n",
       "      <th>prize</th>\n",
       "      <th>startelo64</th>\n",
       "      <th>endelo64</th>\n",
       "    </tr>\n",
       "  </thead>\n",
       "  <tbody>\n",
       "    <tr>\n",
       "      <th>count</th>\n",
       "      <td>9240.000000</td>\n",
       "      <td>9240.000000</td>\n",
       "      <td>9.240000e+03</td>\n",
       "      <td>6228.000000</td>\n",
       "      <td>6627.000000</td>\n",
       "    </tr>\n",
       "    <tr>\n",
       "      <th>mean</th>\n",
       "      <td>3.021320</td>\n",
       "      <td>4.147511</td>\n",
       "      <td>6.490698e+04</td>\n",
       "      <td>1171.028488</td>\n",
       "      <td>1167.608950</td>\n",
       "    </tr>\n",
       "    <tr>\n",
       "      <th>std</th>\n",
       "      <td>1.421953</td>\n",
       "      <td>2.660254</td>\n",
       "      <td>4.296791e+05</td>\n",
       "      <td>125.393771</td>\n",
       "      <td>135.953683</td>\n",
       "    </tr>\n",
       "    <tr>\n",
       "      <th>min</th>\n",
       "      <td>1.000000</td>\n",
       "      <td>1.000000</td>\n",
       "      <td>1.600000e+02</td>\n",
       "      <td>781.374334</td>\n",
       "      <td>785.675617</td>\n",
       "    </tr>\n",
       "    <tr>\n",
       "      <th>25%</th>\n",
       "      <td>2.000000</td>\n",
       "      <td>3.000000</td>\n",
       "      <td>2.000000e+03</td>\n",
       "      <td>1086.352908</td>\n",
       "      <td>1079.490853</td>\n",
       "    </tr>\n",
       "    <tr>\n",
       "      <th>50%</th>\n",
       "      <td>3.000000</td>\n",
       "      <td>3.000000</td>\n",
       "      <td>7.000000e+03</td>\n",
       "      <td>1174.284373</td>\n",
       "      <td>1163.229496</td>\n",
       "    </tr>\n",
       "    <tr>\n",
       "      <th>75%</th>\n",
       "      <td>4.000000</td>\n",
       "      <td>5.000000</td>\n",
       "      <td>2.500000e+04</td>\n",
       "      <td>1254.130662</td>\n",
       "      <td>1254.714235</td>\n",
       "    </tr>\n",
       "    <tr>\n",
       "      <th>max</th>\n",
       "      <td>5.000000</td>\n",
       "      <td>21.000000</td>\n",
       "      <td>1.086268e+07</td>\n",
       "      <td>1536.900227</td>\n",
       "      <td>1554.769362</td>\n",
       "    </tr>\n",
       "  </tbody>\n",
       "</table>\n",
       "</div>"
      ],
      "text/plain": [
       "          position        place         prize   startelo64     endelo64\n",
       "count  9240.000000  9240.000000  9.240000e+03  6228.000000  6627.000000\n",
       "mean      3.021320     4.147511  6.490698e+04  1171.028488  1167.608950\n",
       "std       1.421953     2.660254  4.296791e+05   125.393771   135.953683\n",
       "min       1.000000     1.000000  1.600000e+02   781.374334   785.675617\n",
       "25%       2.000000     3.000000  2.000000e+03  1086.352908  1079.490853\n",
       "50%       3.000000     3.000000  7.000000e+03  1174.284373  1163.229496\n",
       "75%       4.000000     5.000000  2.500000e+04  1254.130662  1254.714235\n",
       "max       5.000000    21.000000  1.086268e+07  1536.900227  1554.769362"
      ]
     },
     "execution_count": 25,
     "metadata": {},
     "output_type": "execute_result"
    }
   ],
   "source": [
    "df.describe()"
   ]
  },
  {
   "cell_type": "code",
   "execution_count": 26,
   "metadata": {
    "collapsed": false,
    "slideshow": {
     "slide_type": "slide"
    }
   },
   "outputs": [
    {
     "data": {
      "text/html": [
       "<div>\n",
       "<table border=\"1\" class=\"dataframe\">\n",
       "  <thead>\n",
       "    <tr style=\"text-align: right;\">\n",
       "      <th></th>\n",
       "      <th>player</th>\n",
       "      <th>start</th>\n",
       "      <th>team</th>\n",
       "      <th>position</th>\n",
       "      <th>dob</th>\n",
       "      <th>tour</th>\n",
       "      <th>end</th>\n",
       "      <th>place</th>\n",
       "      <th>prize</th>\n",
       "      <th>startelo64</th>\n",
       "      <th>endelo64</th>\n",
       "      <th>delo</th>\n",
       "      <th>rating</th>\n",
       "    </tr>\n",
       "  </thead>\n",
       "  <tbody>\n",
       "    <tr>\n",
       "      <th>0</th>\n",
       "      <td>kotarhayama</td>\n",
       "      <td>2018-01-19</td>\n",
       "      <td>Infamous</td>\n",
       "      <td>1</td>\n",
       "      <td>1997-01-31</td>\n",
       "      <td>Galaxy Battles II: Emerging Worlds</td>\n",
       "      <td>2018-01-21</td>\n",
       "      <td>7</td>\n",
       "      <td>20000.0</td>\n",
       "      <td>1172.69492</td>\n",
       "      <td>1170.334653</td>\n",
       "      <td>-2.360267</td>\n",
       "      <td>99.623605</td>\n",
       "    </tr>\n",
       "    <tr>\n",
       "      <th>1</th>\n",
       "      <td>papita</td>\n",
       "      <td>2018-01-19</td>\n",
       "      <td>Infamous</td>\n",
       "      <td>2</td>\n",
       "      <td>1995-01-19</td>\n",
       "      <td>Galaxy Battles II: Emerging Worlds</td>\n",
       "      <td>2018-01-21</td>\n",
       "      <td>7</td>\n",
       "      <td>20000.0</td>\n",
       "      <td>1172.69492</td>\n",
       "      <td>1170.334653</td>\n",
       "      <td>-2.360267</td>\n",
       "      <td>97.516128</td>\n",
       "    </tr>\n",
       "    <tr>\n",
       "      <th>2</th>\n",
       "      <td>stinger</td>\n",
       "      <td>2018-01-19</td>\n",
       "      <td>Infamous</td>\n",
       "      <td>3</td>\n",
       "      <td>1996-12-15</td>\n",
       "      <td>Galaxy Battles II: Emerging Worlds</td>\n",
       "      <td>2018-01-21</td>\n",
       "      <td>7</td>\n",
       "      <td>20000.0</td>\n",
       "      <td>1172.69492</td>\n",
       "      <td>1170.334653</td>\n",
       "      <td>-2.360267</td>\n",
       "      <td>273.572345</td>\n",
       "    </tr>\n",
       "    <tr>\n",
       "      <th>3</th>\n",
       "      <td>scofield</td>\n",
       "      <td>2018-01-19</td>\n",
       "      <td>Infamous</td>\n",
       "      <td>4</td>\n",
       "      <td>1998-04-29</td>\n",
       "      <td>Galaxy Battles II: Emerging Worlds</td>\n",
       "      <td>2018-01-21</td>\n",
       "      <td>7</td>\n",
       "      <td>20000.0</td>\n",
       "      <td>1172.69492</td>\n",
       "      <td>1170.334653</td>\n",
       "      <td>-2.360267</td>\n",
       "      <td>97.516128</td>\n",
       "    </tr>\n",
       "    <tr>\n",
       "      <th>4</th>\n",
       "      <td>masoku</td>\n",
       "      <td>2018-01-19</td>\n",
       "      <td>Infamous</td>\n",
       "      <td>5</td>\n",
       "      <td>NaT</td>\n",
       "      <td>Galaxy Battles II: Emerging Worlds</td>\n",
       "      <td>2018-01-21</td>\n",
       "      <td>7</td>\n",
       "      <td>20000.0</td>\n",
       "      <td>1172.69492</td>\n",
       "      <td>1170.334653</td>\n",
       "      <td>-2.360267</td>\n",
       "      <td>84.370597</td>\n",
       "    </tr>\n",
       "  </tbody>\n",
       "</table>\n",
       "</div>"
      ],
      "text/plain": [
       "        player      start      team  position        dob  \\\n",
       "0  kotarhayama 2018-01-19  Infamous         1 1997-01-31   \n",
       "1       papita 2018-01-19  Infamous         2 1995-01-19   \n",
       "2      stinger 2018-01-19  Infamous         3 1996-12-15   \n",
       "3     scofield 2018-01-19  Infamous         4 1998-04-29   \n",
       "4       masoku 2018-01-19  Infamous         5        NaT   \n",
       "\n",
       "                                 tour        end  place    prize  startelo64  \\\n",
       "0  Galaxy Battles II: Emerging Worlds 2018-01-21      7  20000.0  1172.69492   \n",
       "1  Galaxy Battles II: Emerging Worlds 2018-01-21      7  20000.0  1172.69492   \n",
       "2  Galaxy Battles II: Emerging Worlds 2018-01-21      7  20000.0  1172.69492   \n",
       "3  Galaxy Battles II: Emerging Worlds 2018-01-21      7  20000.0  1172.69492   \n",
       "4  Galaxy Battles II: Emerging Worlds 2018-01-21      7  20000.0  1172.69492   \n",
       "\n",
       "      endelo64      delo      rating  \n",
       "0  1170.334653 -2.360267   99.623605  \n",
       "1  1170.334653 -2.360267   97.516128  \n",
       "2  1170.334653 -2.360267  273.572345  \n",
       "3  1170.334653 -2.360267   97.516128  \n",
       "4  1170.334653 -2.360267   84.370597  "
      ]
     },
     "execution_count": 26,
     "metadata": {},
     "output_type": "execute_result"
    }
   ],
   "source": [
    "#elo gain from each tournament\n",
    "df['delo'] = df.endelo64 - df.startelo64\n",
    "\n",
    "#cumulative sum of delo\n",
    "cumsums = df[['player', 'start', 'delo']].groupby(['player', 'start']).sum().groupby(level=0).cumsum()\n",
    "df = df.set_index(['player', 'start'])\n",
    "df['rating'] = cumsums\n",
    "df = df.reset_index()\n",
    "df.head()"
   ]
  },
  {
   "cell_type": "code",
   "execution_count": 27,
   "metadata": {
    "collapsed": false,
    "slideshow": {
     "slide_type": "subslide"
    }
   },
   "outputs": [
    {
     "data": {
      "text/html": [
       "<div>\n",
       "<table border=\"1\" class=\"dataframe\">\n",
       "  <thead>\n",
       "    <tr style=\"text-align: right;\">\n",
       "      <th></th>\n",
       "      <th>position</th>\n",
       "      <th>place</th>\n",
       "      <th>prize</th>\n",
       "      <th>startelo64</th>\n",
       "      <th>endelo64</th>\n",
       "      <th>delo</th>\n",
       "      <th>rating</th>\n",
       "    </tr>\n",
       "  </thead>\n",
       "  <tbody>\n",
       "    <tr>\n",
       "      <th>count</th>\n",
       "      <td>9240.000000</td>\n",
       "      <td>9240.000000</td>\n",
       "      <td>9.240000e+03</td>\n",
       "      <td>6228.000000</td>\n",
       "      <td>6627.000000</td>\n",
       "      <td>6203.000000</td>\n",
       "      <td>6061.000000</td>\n",
       "    </tr>\n",
       "    <tr>\n",
       "      <th>mean</th>\n",
       "      <td>3.021320</td>\n",
       "      <td>4.147511</td>\n",
       "      <td>6.490698e+04</td>\n",
       "      <td>1171.028488</td>\n",
       "      <td>1167.608950</td>\n",
       "      <td>-0.884857</td>\n",
       "      <td>125.399186</td>\n",
       "    </tr>\n",
       "    <tr>\n",
       "      <th>std</th>\n",
       "      <td>1.421953</td>\n",
       "      <td>2.660254</td>\n",
       "      <td>4.296791e+05</td>\n",
       "      <td>125.393771</td>\n",
       "      <td>135.953683</td>\n",
       "      <td>107.682022</td>\n",
       "      <td>556.059280</td>\n",
       "    </tr>\n",
       "    <tr>\n",
       "      <th>min</th>\n",
       "      <td>1.000000</td>\n",
       "      <td>1.000000</td>\n",
       "      <td>1.600000e+02</td>\n",
       "      <td>781.374334</td>\n",
       "      <td>785.675617</td>\n",
       "      <td>-395.885142</td>\n",
       "      <td>-1932.918038</td>\n",
       "    </tr>\n",
       "    <tr>\n",
       "      <th>25%</th>\n",
       "      <td>2.000000</td>\n",
       "      <td>3.000000</td>\n",
       "      <td>2.000000e+03</td>\n",
       "      <td>1086.352908</td>\n",
       "      <td>1079.490853</td>\n",
       "      <td>-66.620694</td>\n",
       "      <td>-123.659540</td>\n",
       "    </tr>\n",
       "    <tr>\n",
       "      <th>50%</th>\n",
       "      <td>3.000000</td>\n",
       "      <td>3.000000</td>\n",
       "      <td>7.000000e+03</td>\n",
       "      <td>1174.284373</td>\n",
       "      <td>1163.229496</td>\n",
       "      <td>-2.361491</td>\n",
       "      <td>52.086307</td>\n",
       "    </tr>\n",
       "    <tr>\n",
       "      <th>75%</th>\n",
       "      <td>4.000000</td>\n",
       "      <td>5.000000</td>\n",
       "      <td>2.500000e+04</td>\n",
       "      <td>1254.130662</td>\n",
       "      <td>1254.714235</td>\n",
       "      <td>56.378332</td>\n",
       "      <td>328.813390</td>\n",
       "    </tr>\n",
       "    <tr>\n",
       "      <th>max</th>\n",
       "      <td>5.000000</td>\n",
       "      <td>21.000000</td>\n",
       "      <td>1.086268e+07</td>\n",
       "      <td>1536.900227</td>\n",
       "      <td>1554.769362</td>\n",
       "      <td>379.634613</td>\n",
       "      <td>3109.431434</td>\n",
       "    </tr>\n",
       "  </tbody>\n",
       "</table>\n",
       "</div>"
      ],
      "text/plain": [
       "          position        place         prize   startelo64     endelo64  \\\n",
       "count  9240.000000  9240.000000  9.240000e+03  6228.000000  6627.000000   \n",
       "mean      3.021320     4.147511  6.490698e+04  1171.028488  1167.608950   \n",
       "std       1.421953     2.660254  4.296791e+05   125.393771   135.953683   \n",
       "min       1.000000     1.000000  1.600000e+02   781.374334   785.675617   \n",
       "25%       2.000000     3.000000  2.000000e+03  1086.352908  1079.490853   \n",
       "50%       3.000000     3.000000  7.000000e+03  1174.284373  1163.229496   \n",
       "75%       4.000000     5.000000  2.500000e+04  1254.130662  1254.714235   \n",
       "max       5.000000    21.000000  1.086268e+07  1536.900227  1554.769362   \n",
       "\n",
       "              delo       rating  \n",
       "count  6203.000000  6061.000000  \n",
       "mean     -0.884857   125.399186  \n",
       "std     107.682022   556.059280  \n",
       "min    -395.885142 -1932.918038  \n",
       "25%     -66.620694  -123.659540  \n",
       "50%      -2.361491    52.086307  \n",
       "75%      56.378332   328.813390  \n",
       "max     379.634613  3109.431434  "
      ]
     },
     "execution_count": 27,
     "metadata": {},
     "output_type": "execute_result"
    }
   ],
   "source": [
    "df.describe()"
   ]
  },
  {
   "cell_type": "code",
   "execution_count": 28,
   "metadata": {
    "collapsed": false,
    "slideshow": {
     "slide_type": "fragment"
    }
   },
   "outputs": [
    {
     "data": {
      "text/plain": [
       "<matplotlib.axes._subplots.AxesSubplot at 0x236b101d358>"
      ]
     },
     "execution_count": 28,
     "metadata": {},
     "output_type": "execute_result"
    },
    {
     "data": {
      "image/png": "[encoded data removed]",
      "text/plain": [
       "<matplotlib.figure.Figure at 0x236b101da20>"
      ]
     },
     "metadata": {},
     "output_type": "display_data"
    }
   ],
   "source": [
    "df[df['player'] == 'arteezy'][['rating', 'start']].set_index('start').plot()"
   ]
  },
  {
   "cell_type": "code",
   "execution_count": null,
   "metadata": {
    "collapsed": true,
    "slideshow": {
     "slide_type": "subslide"
    }
   },
   "outputs": [],
   "source": [
    "df[df['player'] == 'arteezy'][['rating', 'start']].set_index('start').plot()"
   ]
  }
 ],
 "metadata": {
  "celltoolbar": "Slideshow",
  "kernelspec": {
   "display_name": "Python 3",
   "language": "python",
   "name": "python3"
  },
  "language_info": {
   "codemirror_mode": {
    "name": "ipython",
    "version": 3
   },
   "file_extension": ".py",
   "mimetype": "text/x-python",
   "name": "python",
   "nbconvert_exporter": "python",
   "pygments_lexer": "ipython3",
   "version": "3.6.0"
  }
 },
 "nbformat": 4,
 "nbformat_minor": 2
}
