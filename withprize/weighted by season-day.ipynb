{
 "cells": [
  {
   "cell_type": "code",
   "execution_count": 2,
   "metadata": {},
   "outputs": [
    {
     "name": "stderr",
     "output_type": "stream",
     "text": [
      "C:\\Users\\nakhonpathompc\\Anaconda3\\lib\\site-packages\\statsmodels\\compat\\pandas.py:56: FutureWarning: The pandas.core.datetools module is deprecated and will be removed in a future version. Please use the pandas.tseries module instead.\n",
      "  from pandas.core import datetools\n"
     ]
    }
   ],
   "source": [
    "%matplotlib inline\n",
    "# data analysis and wrangling\n",
    "import pandas as pd\n",
    "import numpy as np\n",
    "import random as rnd\n",
    "\n",
    "# visualization\n",
    "import seaborn as sns\n",
    "import matplotlib.pyplot as plt\n",
    "\n",
    "# machine learning\n",
    "from sklearn.linear_model import LogisticRegression\n",
    "import statsmodels.api as sm\n",
    "from sklearn.svm import SVC, LinearSVC\n",
    "from sklearn.ensemble import RandomForestClassifier\n",
    "from sklearn.neighbors import KNeighborsClassifier\n",
    "from sklearn.naive_bayes import GaussianNB\n",
    "from sklearn.linear_model import Perceptron\n",
    "from sklearn.linear_model import SGDClassifier\n",
    "from sklearn.tree import DecisionTreeClassifier\n",
    "from linearmodels import PanelOLS"
   ]
  },
  {
   "cell_type": "code",
   "execution_count": 3,
   "metadata": {
    "collapsed": true
   },
   "outputs": [],
   "source": [
    "df = pd.read_csv('data.csv', encoding = \"ISO-8859-1\")"
   ]
  },
  {
   "cell_type": "code",
   "execution_count": 4,
   "metadata": {
    "scrolled": false
   },
   "outputs": [
    {
     "data": {
      "text/html": [
       "<div>\n",
       "<style>\n",
       "    .dataframe thead tr:only-child th {\n",
       "        text-align: right;\n",
       "    }\n",
       "\n",
       "    .dataframe thead th {\n",
       "        text-align: left;\n",
       "    }\n",
       "\n",
       "    .dataframe tbody tr th {\n",
       "        vertical-align: top;\n",
       "    }\n",
       "</style>\n",
       "<table border=\"1\" class=\"dataframe\">\n",
       "  <thead>\n",
       "    <tr style=\"text-align: right;\">\n",
       "      <th></th>\n",
       "      <th>team</th>\n",
       "      <th>player</th>\n",
       "      <th>position</th>\n",
       "      <th>tour</th>\n",
       "      <th>place</th>\n",
       "      <th>prize</th>\n",
       "      <th>start</th>\n",
       "      <th>end</th>\n",
       "      <th>startelo32</th>\n",
       "      <th>startelo64</th>\n",
       "      <th>...</th>\n",
       "      <th>endelo32</th>\n",
       "      <th>endelo64</th>\n",
       "      <th>endglickorating</th>\n",
       "      <th>endglickomu</th>\n",
       "      <th>endglickophi</th>\n",
       "      <th>endglickosigma</th>\n",
       "      <th>endglicko2rating</th>\n",
       "      <th>endglicko2mu</th>\n",
       "      <th>endglicko2phi</th>\n",
       "      <th>endglicko2sigma</th>\n",
       "    </tr>\n",
       "  </thead>\n",
       "  <tbody>\n",
       "    <tr>\n",
       "      <th>0</th>\n",
       "      <td>Infamous</td>\n",
       "      <td>Kotar? Hayama</td>\n",
       "      <td>1</td>\n",
       "      <td>Galaxy Battles II: Emerging Worlds</td>\n",
       "      <td>7</td>\n",
       "      <td>$20,000</td>\n",
       "      <td>2018-01-19</td>\n",
       "      <td>2018-01-21</td>\n",
       "      <td>1116.266143</td>\n",
       "      <td>1172.69492</td>\n",
       "      <td>...</td>\n",
       "      <td>1114.677102</td>\n",
       "      <td>1170.334653</td>\n",
       "      <td>1646.254466</td>\n",
       "      <td>1840.23761</td>\n",
       "      <td>NaN</td>\n",
       "      <td>77.593258</td>\n",
       "      <td>1596.919637</td>\n",
       "      <td>1728.907874</td>\n",
       "      <td>52.795295</td>\n",
       "      <td>NaN</td>\n",
       "    </tr>\n",
       "    <tr>\n",
       "      <th>1</th>\n",
       "      <td>Infamous</td>\n",
       "      <td>Papita</td>\n",
       "      <td>2</td>\n",
       "      <td>Galaxy Battles II: Emerging Worlds</td>\n",
       "      <td>7</td>\n",
       "      <td>$20,000</td>\n",
       "      <td>2018-01-19</td>\n",
       "      <td>2018-01-21</td>\n",
       "      <td>1116.266143</td>\n",
       "      <td>1172.69492</td>\n",
       "      <td>...</td>\n",
       "      <td>1114.677102</td>\n",
       "      <td>1170.334653</td>\n",
       "      <td>1646.254466</td>\n",
       "      <td>1840.23761</td>\n",
       "      <td>NaN</td>\n",
       "      <td>77.593258</td>\n",
       "      <td>1596.919637</td>\n",
       "      <td>1728.907874</td>\n",
       "      <td>52.795295</td>\n",
       "      <td>NaN</td>\n",
       "    </tr>\n",
       "    <tr>\n",
       "      <th>2</th>\n",
       "      <td>Infamous</td>\n",
       "      <td>StingeR</td>\n",
       "      <td>3</td>\n",
       "      <td>Galaxy Battles II: Emerging Worlds</td>\n",
       "      <td>7</td>\n",
       "      <td>$20,000</td>\n",
       "      <td>2018-01-19</td>\n",
       "      <td>2018-01-21</td>\n",
       "      <td>1116.266143</td>\n",
       "      <td>1172.69492</td>\n",
       "      <td>...</td>\n",
       "      <td>1114.677102</td>\n",
       "      <td>1170.334653</td>\n",
       "      <td>1646.254466</td>\n",
       "      <td>1840.23761</td>\n",
       "      <td>NaN</td>\n",
       "      <td>77.593258</td>\n",
       "      <td>1596.919637</td>\n",
       "      <td>1728.907874</td>\n",
       "      <td>52.795295</td>\n",
       "      <td>NaN</td>\n",
       "    </tr>\n",
       "    <tr>\n",
       "      <th>3</th>\n",
       "      <td>Infamous</td>\n",
       "      <td>Scofield</td>\n",
       "      <td>4</td>\n",
       "      <td>Galaxy Battles II: Emerging Worlds</td>\n",
       "      <td>7</td>\n",
       "      <td>$20,000</td>\n",
       "      <td>2018-01-19</td>\n",
       "      <td>2018-01-21</td>\n",
       "      <td>1116.266143</td>\n",
       "      <td>1172.69492</td>\n",
       "      <td>...</td>\n",
       "      <td>1114.677102</td>\n",
       "      <td>1170.334653</td>\n",
       "      <td>1646.254466</td>\n",
       "      <td>1840.23761</td>\n",
       "      <td>NaN</td>\n",
       "      <td>77.593258</td>\n",
       "      <td>1596.919637</td>\n",
       "      <td>1728.907874</td>\n",
       "      <td>52.795295</td>\n",
       "      <td>NaN</td>\n",
       "    </tr>\n",
       "    <tr>\n",
       "      <th>4</th>\n",
       "      <td>Infamous</td>\n",
       "      <td>Masoku</td>\n",
       "      <td>5</td>\n",
       "      <td>Galaxy Battles II: Emerging Worlds</td>\n",
       "      <td>7</td>\n",
       "      <td>$20,000</td>\n",
       "      <td>2018-01-19</td>\n",
       "      <td>2018-01-21</td>\n",
       "      <td>1116.266143</td>\n",
       "      <td>1172.69492</td>\n",
       "      <td>...</td>\n",
       "      <td>1114.677102</td>\n",
       "      <td>1170.334653</td>\n",
       "      <td>1646.254466</td>\n",
       "      <td>1840.23761</td>\n",
       "      <td>NaN</td>\n",
       "      <td>77.593258</td>\n",
       "      <td>1596.919637</td>\n",
       "      <td>1728.907874</td>\n",
       "      <td>52.795295</td>\n",
       "      <td>NaN</td>\n",
       "    </tr>\n",
       "  </tbody>\n",
       "</table>\n",
       "<p>5 rows × 28 columns</p>\n",
       "</div>"
      ],
      "text/plain": [
       "       team         player  position                                tour  \\\n",
       "0  Infamous  Kotar? Hayama         1  Galaxy Battles II: Emerging Worlds   \n",
       "1  Infamous         Papita         2  Galaxy Battles II: Emerging Worlds   \n",
       "2  Infamous        StingeR         3  Galaxy Battles II: Emerging Worlds   \n",
       "3  Infamous       Scofield         4  Galaxy Battles II: Emerging Worlds   \n",
       "4  Infamous         Masoku         5  Galaxy Battles II: Emerging Worlds   \n",
       "\n",
       "   place    prize       start         end   startelo32  startelo64  \\\n",
       "0      7  $20,000  2018-01-19  2018-01-21  1116.266143  1172.69492   \n",
       "1      7  $20,000  2018-01-19  2018-01-21  1116.266143  1172.69492   \n",
       "2      7  $20,000  2018-01-19  2018-01-21  1116.266143  1172.69492   \n",
       "3      7  $20,000  2018-01-19  2018-01-21  1116.266143  1172.69492   \n",
       "4      7  $20,000  2018-01-19  2018-01-21  1116.266143  1172.69492   \n",
       "\n",
       "        ...            endelo32     endelo64  endglickorating  endglickomu  \\\n",
       "0       ...         1114.677102  1170.334653      1646.254466   1840.23761   \n",
       "1       ...         1114.677102  1170.334653      1646.254466   1840.23761   \n",
       "2       ...         1114.677102  1170.334653      1646.254466   1840.23761   \n",
       "3       ...         1114.677102  1170.334653      1646.254466   1840.23761   \n",
       "4       ...         1114.677102  1170.334653      1646.254466   1840.23761   \n",
       "\n",
       "   endglickophi  endglickosigma  endglicko2rating  endglicko2mu  \\\n",
       "0           NaN       77.593258       1596.919637   1728.907874   \n",
       "1           NaN       77.593258       1596.919637   1728.907874   \n",
       "2           NaN       77.593258       1596.919637   1728.907874   \n",
       "3           NaN       77.593258       1596.919637   1728.907874   \n",
       "4           NaN       77.593258       1596.919637   1728.907874   \n",
       "\n",
       "   endglicko2phi  endglicko2sigma  \n",
       "0      52.795295              NaN  \n",
       "1      52.795295              NaN  \n",
       "2      52.795295              NaN  \n",
       "3      52.795295              NaN  \n",
       "4      52.795295              NaN  \n",
       "\n",
       "[5 rows x 28 columns]"
      ]
     },
     "execution_count": 4,
     "metadata": {},
     "output_type": "execute_result"
    }
   ],
   "source": [
    "df.head()"
   ]
  },
  {
   "cell_type": "code",
   "execution_count": 5,
   "metadata": {},
   "outputs": [
    {
     "name": "stdout",
     "output_type": "stream",
     "text": [
      "team                          object\n",
      "player                        object\n",
      "position                       int64\n",
      "tour                          object\n",
      "place                          int64\n",
      "prize                        float64\n",
      "start                 datetime64[ns]\n",
      "end                   datetime64[ns]\n",
      "startelo32                   float64\n",
      "startelo64                   float64\n",
      "startglickorating            float64\n",
      "startglickomu                float64\n",
      "startglickophi               float64\n",
      "startglickosigma             float64\n",
      "startglicko2rating           float64\n",
      "startglicko2mu               float64\n",
      "startglicko2phi              float64\n",
      "startglicko2sigma            float64\n",
      "endelo32                     float64\n",
      "endelo64                     float64\n",
      "endglickorating              float64\n",
      "endglickomu                  float64\n",
      "endglickophi                 float64\n",
      "endglickosigma               float64\n",
      "endglicko2rating             float64\n",
      "endglicko2mu                 float64\n",
      "endglicko2phi                float64\n",
      "endglicko2sigma              float64\n",
      "dtype: object\n"
     ]
    },
    {
     "data": {
      "text/html": [
       "<div>\n",
       "<style>\n",
       "    .dataframe thead tr:only-child th {\n",
       "        text-align: right;\n",
       "    }\n",
       "\n",
       "    .dataframe thead th {\n",
       "        text-align: left;\n",
       "    }\n",
       "\n",
       "    .dataframe tbody tr th {\n",
       "        vertical-align: top;\n",
       "    }\n",
       "</style>\n",
       "<table border=\"1\" class=\"dataframe\">\n",
       "  <thead>\n",
       "    <tr style=\"text-align: right;\">\n",
       "      <th></th>\n",
       "      <th>team</th>\n",
       "      <th>player</th>\n",
       "      <th>position</th>\n",
       "      <th>tour</th>\n",
       "      <th>place</th>\n",
       "      <th>prize</th>\n",
       "      <th>start</th>\n",
       "      <th>end</th>\n",
       "      <th>startelo32</th>\n",
       "      <th>startelo64</th>\n",
       "      <th>...</th>\n",
       "      <th>endelo32</th>\n",
       "      <th>endelo64</th>\n",
       "      <th>endglickorating</th>\n",
       "      <th>endglickomu</th>\n",
       "      <th>endglickophi</th>\n",
       "      <th>endglickosigma</th>\n",
       "      <th>endglicko2rating</th>\n",
       "      <th>endglicko2mu</th>\n",
       "      <th>endglicko2phi</th>\n",
       "      <th>endglicko2sigma</th>\n",
       "    </tr>\n",
       "  </thead>\n",
       "  <tbody>\n",
       "    <tr>\n",
       "      <th>0</th>\n",
       "      <td>Infamous</td>\n",
       "      <td>kotarhayama</td>\n",
       "      <td>1</td>\n",
       "      <td>Galaxy Battles II: Emerging Worlds</td>\n",
       "      <td>7</td>\n",
       "      <td>20000.0</td>\n",
       "      <td>2018-01-19</td>\n",
       "      <td>2018-01-21</td>\n",
       "      <td>1116.266143</td>\n",
       "      <td>1172.69492</td>\n",
       "      <td>...</td>\n",
       "      <td>1114.677102</td>\n",
       "      <td>1170.334653</td>\n",
       "      <td>1646.254466</td>\n",
       "      <td>1840.23761</td>\n",
       "      <td>NaN</td>\n",
       "      <td>77.593258</td>\n",
       "      <td>1596.919637</td>\n",
       "      <td>1728.907874</td>\n",
       "      <td>52.795295</td>\n",
       "      <td>NaN</td>\n",
       "    </tr>\n",
       "    <tr>\n",
       "      <th>1</th>\n",
       "      <td>Infamous</td>\n",
       "      <td>papita</td>\n",
       "      <td>2</td>\n",
       "      <td>Galaxy Battles II: Emerging Worlds</td>\n",
       "      <td>7</td>\n",
       "      <td>20000.0</td>\n",
       "      <td>2018-01-19</td>\n",
       "      <td>2018-01-21</td>\n",
       "      <td>1116.266143</td>\n",
       "      <td>1172.69492</td>\n",
       "      <td>...</td>\n",
       "      <td>1114.677102</td>\n",
       "      <td>1170.334653</td>\n",
       "      <td>1646.254466</td>\n",
       "      <td>1840.23761</td>\n",
       "      <td>NaN</td>\n",
       "      <td>77.593258</td>\n",
       "      <td>1596.919637</td>\n",
       "      <td>1728.907874</td>\n",
       "      <td>52.795295</td>\n",
       "      <td>NaN</td>\n",
       "    </tr>\n",
       "    <tr>\n",
       "      <th>2</th>\n",
       "      <td>Infamous</td>\n",
       "      <td>stinger</td>\n",
       "      <td>3</td>\n",
       "      <td>Galaxy Battles II: Emerging Worlds</td>\n",
       "      <td>7</td>\n",
       "      <td>20000.0</td>\n",
       "      <td>2018-01-19</td>\n",
       "      <td>2018-01-21</td>\n",
       "      <td>1116.266143</td>\n",
       "      <td>1172.69492</td>\n",
       "      <td>...</td>\n",
       "      <td>1114.677102</td>\n",
       "      <td>1170.334653</td>\n",
       "      <td>1646.254466</td>\n",
       "      <td>1840.23761</td>\n",
       "      <td>NaN</td>\n",
       "      <td>77.593258</td>\n",
       "      <td>1596.919637</td>\n",
       "      <td>1728.907874</td>\n",
       "      <td>52.795295</td>\n",
       "      <td>NaN</td>\n",
       "    </tr>\n",
       "    <tr>\n",
       "      <th>3</th>\n",
       "      <td>Infamous</td>\n",
       "      <td>scofield</td>\n",
       "      <td>4</td>\n",
       "      <td>Galaxy Battles II: Emerging Worlds</td>\n",
       "      <td>7</td>\n",
       "      <td>20000.0</td>\n",
       "      <td>2018-01-19</td>\n",
       "      <td>2018-01-21</td>\n",
       "      <td>1116.266143</td>\n",
       "      <td>1172.69492</td>\n",
       "      <td>...</td>\n",
       "      <td>1114.677102</td>\n",
       "      <td>1170.334653</td>\n",
       "      <td>1646.254466</td>\n",
       "      <td>1840.23761</td>\n",
       "      <td>NaN</td>\n",
       "      <td>77.593258</td>\n",
       "      <td>1596.919637</td>\n",
       "      <td>1728.907874</td>\n",
       "      <td>52.795295</td>\n",
       "      <td>NaN</td>\n",
       "    </tr>\n",
       "    <tr>\n",
       "      <th>4</th>\n",
       "      <td>Infamous</td>\n",
       "      <td>masoku</td>\n",
       "      <td>5</td>\n",
       "      <td>Galaxy Battles II: Emerging Worlds</td>\n",
       "      <td>7</td>\n",
       "      <td>20000.0</td>\n",
       "      <td>2018-01-19</td>\n",
       "      <td>2018-01-21</td>\n",
       "      <td>1116.266143</td>\n",
       "      <td>1172.69492</td>\n",
       "      <td>...</td>\n",
       "      <td>1114.677102</td>\n",
       "      <td>1170.334653</td>\n",
       "      <td>1646.254466</td>\n",
       "      <td>1840.23761</td>\n",
       "      <td>NaN</td>\n",
       "      <td>77.593258</td>\n",
       "      <td>1596.919637</td>\n",
       "      <td>1728.907874</td>\n",
       "      <td>52.795295</td>\n",
       "      <td>NaN</td>\n",
       "    </tr>\n",
       "  </tbody>\n",
       "</table>\n",
       "<p>5 rows × 28 columns</p>\n",
       "</div>"
      ],
      "text/plain": [
       "       team       player  position                                tour  place  \\\n",
       "0  Infamous  kotarhayama         1  Galaxy Battles II: Emerging Worlds      7   \n",
       "1  Infamous       papita         2  Galaxy Battles II: Emerging Worlds      7   \n",
       "2  Infamous      stinger         3  Galaxy Battles II: Emerging Worlds      7   \n",
       "3  Infamous     scofield         4  Galaxy Battles II: Emerging Worlds      7   \n",
       "4  Infamous       masoku         5  Galaxy Battles II: Emerging Worlds      7   \n",
       "\n",
       "     prize      start        end   startelo32  startelo64       ...         \\\n",
       "0  20000.0 2018-01-19 2018-01-21  1116.266143  1172.69492       ...          \n",
       "1  20000.0 2018-01-19 2018-01-21  1116.266143  1172.69492       ...          \n",
       "2  20000.0 2018-01-19 2018-01-21  1116.266143  1172.69492       ...          \n",
       "3  20000.0 2018-01-19 2018-01-21  1116.266143  1172.69492       ...          \n",
       "4  20000.0 2018-01-19 2018-01-21  1116.266143  1172.69492       ...          \n",
       "\n",
       "      endelo32     endelo64  endglickorating  endglickomu  endglickophi  \\\n",
       "0  1114.677102  1170.334653      1646.254466   1840.23761           NaN   \n",
       "1  1114.677102  1170.334653      1646.254466   1840.23761           NaN   \n",
       "2  1114.677102  1170.334653      1646.254466   1840.23761           NaN   \n",
       "3  1114.677102  1170.334653      1646.254466   1840.23761           NaN   \n",
       "4  1114.677102  1170.334653      1646.254466   1840.23761           NaN   \n",
       "\n",
       "   endglickosigma  endglicko2rating  endglicko2mu  endglicko2phi  \\\n",
       "0       77.593258       1596.919637   1728.907874      52.795295   \n",
       "1       77.593258       1596.919637   1728.907874      52.795295   \n",
       "2       77.593258       1596.919637   1728.907874      52.795295   \n",
       "3       77.593258       1596.919637   1728.907874      52.795295   \n",
       "4       77.593258       1596.919637   1728.907874      52.795295   \n",
       "\n",
       "   endglicko2sigma  \n",
       "0              NaN  \n",
       "1              NaN  \n",
       "2              NaN  \n",
       "3              NaN  \n",
       "4              NaN  \n",
       "\n",
       "[5 rows x 28 columns]"
      ]
     },
     "execution_count": 5,
     "metadata": {},
     "output_type": "execute_result"
    }
   ],
   "source": [
    "df['prize'] = df['prize'].replace('[\\$,]', '', regex=True).astype(float)\n",
    "df.player = df.player.replace(r'\\W+', '', regex=True).str.lower()\n",
    "df.start = pd.to_datetime(df.start)\n",
    "df.end = pd.to_datetime(df.end)\n",
    "print(df.dtypes)\n",
    "df.head()"
   ]
  },
  {
   "cell_type": "code",
   "execution_count": 6,
   "metadata": {},
   "outputs": [
    {
     "data": {
      "text/html": [
       "<div>\n",
       "<style>\n",
       "    .dataframe thead tr:only-child th {\n",
       "        text-align: right;\n",
       "    }\n",
       "\n",
       "    .dataframe thead th {\n",
       "        text-align: left;\n",
       "    }\n",
       "\n",
       "    .dataframe tbody tr th {\n",
       "        vertical-align: top;\n",
       "    }\n",
       "</style>\n",
       "<table border=\"1\" class=\"dataframe\">\n",
       "  <thead>\n",
       "    <tr style=\"text-align: right;\">\n",
       "      <th></th>\n",
       "      <th>tour</th>\n",
       "      <th>pool</th>\n",
       "    </tr>\n",
       "  </thead>\n",
       "  <tbody>\n",
       "    <tr>\n",
       "      <th>0</th>\n",
       "      <td>2013 WPC ACE Dota 2 League</td>\n",
       "      <td>254534.0</td>\n",
       "    </tr>\n",
       "    <tr>\n",
       "      <th>1</th>\n",
       "      <td>2015 Red Bull Battle Grounds: Dota 2</td>\n",
       "      <td>88295.0</td>\n",
       "    </tr>\n",
       "    <tr>\n",
       "      <th>2</th>\n",
       "      <td>AMD Premier League Season 1</td>\n",
       "      <td>6500.0</td>\n",
       "    </tr>\n",
       "    <tr>\n",
       "      <th>3</th>\n",
       "      <td>AMD Premier League Season 2</td>\n",
       "      <td>7000.0</td>\n",
       "    </tr>\n",
       "    <tr>\n",
       "      <th>4</th>\n",
       "      <td>AMD SAPPHIRE Dota PIT League</td>\n",
       "      <td>300000.0</td>\n",
       "    </tr>\n",
       "  </tbody>\n",
       "</table>\n",
       "</div>"
      ],
      "text/plain": [
       "                                   tour      pool\n",
       "0            2013 WPC ACE Dota 2 League  254534.0\n",
       "1  2015 Red Bull Battle Grounds: Dota 2   88295.0\n",
       "2           AMD Premier League Season 1    6500.0\n",
       "3           AMD Premier League Season 2    7000.0\n",
       "4          AMD SAPPHIRE Dota PIT League  300000.0"
      ]
     },
     "execution_count": 6,
     "metadata": {},
     "output_type": "execute_result"
    }
   ],
   "source": [
    "pool = df.groupby(['start', 'team']).first()[['prize', 'tour']].groupby('tour').sum().reset_index().rename(columns={'prize': 'pool'})\n",
    "pool.head()"
   ]
  },
  {
   "cell_type": "code",
   "execution_count": 7,
   "metadata": {
    "collapsed": true
   },
   "outputs": [],
   "source": [
    "df = pd.merge(df, pool, how='left', on=['tour'])"
   ]
  },
  {
   "cell_type": "code",
   "execution_count": 8,
   "metadata": {
    "slideshow": {
     "slide_type": "-"
    }
   },
   "outputs": [
    {
     "data": {
      "text/html": [
       "<div>\n",
       "<style>\n",
       "    .dataframe thead tr:only-child th {\n",
       "        text-align: right;\n",
       "    }\n",
       "\n",
       "    .dataframe thead th {\n",
       "        text-align: left;\n",
       "    }\n",
       "\n",
       "    .dataframe tbody tr th {\n",
       "        vertical-align: top;\n",
       "    }\n",
       "</style>\n",
       "<table border=\"1\" class=\"dataframe\">\n",
       "  <thead>\n",
       "    <tr style=\"text-align: right;\">\n",
       "      <th></th>\n",
       "      <th>country</th>\n",
       "      <th>player</th>\n",
       "      <th>name</th>\n",
       "      <th>dob</th>\n",
       "    </tr>\n",
       "  </thead>\n",
       "  <tbody>\n",
       "    <tr>\n",
       "      <th>0</th>\n",
       "      <td>Russia</td>\n",
       "      <td>.Ark</td>\n",
       "      <td>Egor Zhabotinskii</td>\n",
       "      <td>1997-07-07</td>\n",
       "    </tr>\n",
       "    <tr>\n",
       "      <th>1</th>\n",
       "      <td>Denmark</td>\n",
       "      <td>13abyKnight</td>\n",
       "      <td>Jon Andersen</td>\n",
       "      <td>1992-06-15</td>\n",
       "    </tr>\n",
       "    <tr>\n",
       "      <th>2</th>\n",
       "      <td>Canada</td>\n",
       "      <td>1437</td>\n",
       "      <td>Sivatheeban Sivanathapillai</td>\n",
       "      <td>NaN</td>\n",
       "    </tr>\n",
       "    <tr>\n",
       "      <th>3</th>\n",
       "      <td>China</td>\n",
       "      <td>290</td>\n",
       "      <td>Zeng Chen</td>\n",
       "      <td>NaN</td>\n",
       "    </tr>\n",
       "    <tr>\n",
       "      <th>4</th>\n",
       "      <td>United Kingdom</td>\n",
       "      <td>2GD</td>\n",
       "      <td>James Harding</td>\n",
       "      <td>1982-12-29</td>\n",
       "    </tr>\n",
       "  </tbody>\n",
       "</table>\n",
       "</div>"
      ],
      "text/plain": [
       "          country       player                         name         dob\n",
       "0          Russia         .Ark            Egor Zhabotinskii  1997-07-07\n",
       "1         Denmark  13abyKnight                 Jon Andersen  1992-06-15\n",
       "2          Canada         1437  Sivatheeban Sivanathapillai         NaN\n",
       "3           China          290                    Zeng Chen         NaN\n",
       "4  United Kingdom          2GD                James Harding  1982-12-29"
      ]
     },
     "execution_count": 8,
     "metadata": {},
     "output_type": "execute_result"
    }
   ],
   "source": [
    "df2 = pd.read_csv('dob.csv', encoding = \"ISO-8859-1\")\n",
    "df2.head()"
   ]
  },
  {
   "cell_type": "code",
   "execution_count": 9,
   "metadata": {},
   "outputs": [
    {
     "name": "stdout",
     "output_type": "stream",
     "text": [
      "country            object\n",
      "player             object\n",
      "name               object\n",
      "dob        datetime64[ns]\n",
      "dtype: object\n"
     ]
    },
    {
     "data": {
      "text/html": [
       "<div>\n",
       "<style>\n",
       "    .dataframe thead tr:only-child th {\n",
       "        text-align: right;\n",
       "    }\n",
       "\n",
       "    .dataframe thead th {\n",
       "        text-align: left;\n",
       "    }\n",
       "\n",
       "    .dataframe tbody tr th {\n",
       "        vertical-align: top;\n",
       "    }\n",
       "</style>\n",
       "<table border=\"1\" class=\"dataframe\">\n",
       "  <thead>\n",
       "    <tr style=\"text-align: right;\">\n",
       "      <th></th>\n",
       "      <th>country</th>\n",
       "      <th>player</th>\n",
       "      <th>name</th>\n",
       "      <th>dob</th>\n",
       "    </tr>\n",
       "  </thead>\n",
       "  <tbody>\n",
       "    <tr>\n",
       "      <th>0</th>\n",
       "      <td>Russia</td>\n",
       "      <td>ark</td>\n",
       "      <td>Egor Zhabotinskii</td>\n",
       "      <td>1997-07-07</td>\n",
       "    </tr>\n",
       "    <tr>\n",
       "      <th>1</th>\n",
       "      <td>Denmark</td>\n",
       "      <td>13abyknight</td>\n",
       "      <td>Jon Andersen</td>\n",
       "      <td>1992-06-15</td>\n",
       "    </tr>\n",
       "    <tr>\n",
       "      <th>2</th>\n",
       "      <td>Canada</td>\n",
       "      <td>1437</td>\n",
       "      <td>Sivatheeban Sivanathapillai</td>\n",
       "      <td>NaT</td>\n",
       "    </tr>\n",
       "    <tr>\n",
       "      <th>3</th>\n",
       "      <td>China</td>\n",
       "      <td>290</td>\n",
       "      <td>Zeng Chen</td>\n",
       "      <td>NaT</td>\n",
       "    </tr>\n",
       "    <tr>\n",
       "      <th>4</th>\n",
       "      <td>United Kingdom</td>\n",
       "      <td>2gd</td>\n",
       "      <td>James Harding</td>\n",
       "      <td>1982-12-29</td>\n",
       "    </tr>\n",
       "  </tbody>\n",
       "</table>\n",
       "</div>"
      ],
      "text/plain": [
       "          country       player                         name        dob\n",
       "0          Russia          ark            Egor Zhabotinskii 1997-07-07\n",
       "1         Denmark  13abyknight                 Jon Andersen 1992-06-15\n",
       "2          Canada         1437  Sivatheeban Sivanathapillai        NaT\n",
       "3           China          290                    Zeng Chen        NaT\n",
       "4  United Kingdom          2gd                James Harding 1982-12-29"
      ]
     },
     "execution_count": 9,
     "metadata": {},
     "output_type": "execute_result"
    }
   ],
   "source": [
    "df2.player = df2.player.replace(r'\\W+', '', regex=True).str.lower()\n",
    "df2.dob = pd.to_datetime(df2.dob)\n",
    "print(df2.dtypes)\n",
    "df2.head()"
   ]
  },
  {
   "cell_type": "code",
   "execution_count": 10,
   "metadata": {
    "collapsed": true
   },
   "outputs": [],
   "source": [
    "df = pd.merge(df, df2, how='left', on=['player'])"
   ]
  },
  {
   "cell_type": "code",
   "execution_count": 11,
   "metadata": {},
   "outputs": [],
   "source": [
    "df[['country', 'team', 'player', 'position', 'dob', 'tour', 'start', 'end', 'place', 'prize', 'startelo64', 'endelo64']].to_csv('descriptive.csv', index=False)"
   ]
  },
  {
   "cell_type": "code",
   "execution_count": 32,
   "metadata": {},
   "outputs": [
    {
     "data": {
      "text/plain": [
       "player  tour                                                team             \n",
       "        Dota 2 Asia Championships 2015                      Speed Gaming.cn       6\n",
       "        Dota 2 Super League                                 For.Love              6\n",
       "        Dota2 ACE - Provisional                             Brave Heart           6\n",
       "                                                            DUOBAO               18\n",
       "                                                            EHOME.Keen           12\n",
       "                                                            FTD Club C            6\n",
       "        Dota2 Professional League Season 1                  Brave Heart           6\n",
       "                                                            EHOME.Keen           12\n",
       "                                                            EHOME.Luminous        6\n",
       "        Dota2 Professional League Season 2 - Secondary      Avalon Club          12\n",
       "                                                            Brave Heart           6\n",
       "                                                            DUOBAO               18\n",
       "                                                            EHOME.Keen           12\n",
       "                                                            TongFu                6\n",
       "                                                            We Are Young          6\n",
       "        Dota2 Professional League Season 2 - Top            FTD Club C            6\n",
       "        Dota2 Professional League Season 3 (2017 S1) - Top  EHOME.Keen           12\n",
       "                                                            FTD Club C            6\n",
       "        ECL 2014 Autumn                                     Speed Gaming.cn      12\n",
       "        ECL 2015 Autumn                                     FTD club A            6\n",
       "        ESL One Hamburg 2017                                Keen Gaming          12\n",
       "        G-League 2012 Season 2                              For.Love              6\n",
       "        G-League 2014                                       Speed Gaming.cn      12\n",
       "        MPGL Southeast Asian Championship                   EHOME.Keen           12\n",
       "        National Electronic Sports Tournament 2014          Speed Gaming.cn      12\n",
       "        Shanghai Dota 2 Open #2                             Brave Heart           6\n",
       "                                                            EHOME.Keen           12\n",
       "                                                            TongFu                6\n",
       "                                                            We Are Young          6\n",
       "        Sina Cup Supernova Dota 2 Open Season 5             Speed Gaming.cn      12\n",
       "                                                                                 ..\n",
       "zsmj    G-League 2014                                       HyperGloryTeam        1\n",
       "        G-League 2015                                       HyperGloryTeam        1\n",
       "        National Electronic Sports Open 2014                HyperGloryTeam        1\n",
       "        National Electronic Sports Tournament 2013          TongFu                1\n",
       "        Red Bull ECL 2013 Dota 2 Season                     Vici Gaming           1\n",
       "        Red Bull ECL 2013 Grand Finals                      TongFu                1\n",
       "        Sina Cup Supernova Dota 2 Open Season 5             HyperGloryTeam        1\n",
       "        Sina Cup Supernova Dota 2 Open/Season 1             TongFu                1\n",
       "        World E-sport Championships 2014                    HyperGloryTeam        1\n",
       "        i-League Season 2                                   HyperGloryTeam        1\n",
       "ztok    Dota 2 Canada Cup Season 6                          Infamous              1\n",
       "                                                            Slayers of Gods       1\n",
       "        Frankfurt Major 2015                                Team Unknown          1\n",
       "        The Final Match Season 1                            Thunder Awaken        1\n",
       "zxc     Dota 2 Champions League Season 2                    Power Rangers         1\n",
       "        Fragbite Masters 2013                               Power Rangers         1\n",
       "        StarLadder StarSeries Season 6                      Power Rangers         1\n",
       "        Techlabs Cup 2013 Grand Finals                      Power Rangers         1\n",
       "        The Defense Season 2                                Power Rangers         1\n",
       "        The Defense Season 3                                XX5 Gaming            1\n",
       "zy      ECL 2014 Spring                                     Speed Gaming.cn       1\n",
       "zyf     Dota 2 Asia Championships 2015                      EHOME                 1\n",
       "        Dota 2 League Season 5                              LV Gaming             1\n",
       "        ECL 2014 Autumn                                     LV Gaming             1\n",
       "        G-League 2014                                       LV Gaming             1\n",
       "        National Electronic Sports Tournament 2014          LV Gaming             1\n",
       "        Sina Cup Supernova Dota 2 Open Season 5             LV Gaming             1\n",
       "        The International 2015                              EHOME                 1\n",
       "        V Games Tournament                                  Orenda                1\n",
       "zyzz    The International 2015                              CompLexity Gaming     1\n",
       "dtype: int64"
      ]
     },
     "execution_count": 32,
     "metadata": {},
     "output_type": "execute_result"
    }
   ],
   "source": [
    "df.groupby(['player', 'tour', 'team']).size()"
   ]
  },
  {
   "cell_type": "code",
   "execution_count": null,
   "metadata": {
    "collapsed": true
   },
   "outputs": [],
   "source": [
    "ra = df[['team', 'player', 'dob', 'position', 'tour', 'place', 'prize', 'pool', 'start', 'end', 'startelo64', 'endelo64']]\n",
    "print(len(ra))\n",
    "print(len(ra.dropna()))\n",
    "ra = ra.dropna().sort_values('start').reset_index().drop('index', axis=1)"
   ]
  },
  {
   "cell_type": "code",
   "execution_count": null,
   "metadata": {
    "collapsed": true
   },
   "outputs": [],
   "source": [
    "ra = ra.rename(columns={'startelo64': 'srt', 'endelo64': 'ert'})\n",
    "ra.head()"
   ]
  },
  {
   "cell_type": "code",
   "execution_count": null,
   "metadata": {
    "collapsed": true
   },
   "outputs": [],
   "source": [
    "ra['age'] = (ra.start - ra.dob).dt.days"
   ]
  },
  {
   "cell_type": "code",
   "execution_count": null,
   "metadata": {
    "collapsed": true
   },
   "outputs": [],
   "source": [
    "for player in ra.player.unique():\n",
    "    try:\n",
    "        dfid = pd.DataFrame(ra[ra['player'] == player].tour.unique()).reset_index().rename(columns={'index': 'exp', 0: 'tour'})\n",
    "        dfid['player'] = player\n",
    "        dfid2 = pd.concat([dfid2, dfid])\n",
    "    except NameError:\n",
    "        dfid2 = dfid\n",
    "        continue"
   ]
  },
  {
   "cell_type": "code",
   "execution_count": null,
   "metadata": {
    "collapsed": true
   },
   "outputs": [],
   "source": [
    "ra = pd.merge(ra, dfid2, how='left', on=['player', 'tour'])"
   ]
  },
  {
   "cell_type": "code",
   "execution_count": null,
   "metadata": {
    "collapsed": true
   },
   "outputs": [],
   "source": [
    "ra.head()"
   ]
  },
  {
   "cell_type": "code",
   "execution_count": null,
   "metadata": {
    "collapsed": true
   },
   "outputs": [],
   "source": [
    "ti = ra[ra['tour'].str[:17] == 'The International'].groupby('tour').first()[['pool', 'start', 'end']]\n",
    "ti"
   ]
  },
  {
   "cell_type": "code",
   "execution_count": null,
   "metadata": {
    "collapsed": true
   },
   "outputs": [],
   "source": [
    "ra['weight'] = ra['pool']\n",
    "for i in range(0, 5):\n",
    "    ra.loc[(ra['start'] >= ti['start'].iloc[i]) & (ra['start'] <= ti['start'].iloc[i+1]), 'weight'] = ra[(ra['start'] >= ti['start'].iloc[i]) & (ra['start'] <= ti['start'].iloc[i+1])]['pool'].apply(np.log) / np.log(ti['pool'].iloc[i])\n",
    "\n",
    "#Only before ti7\n",
    "ra = ra[ra['start'] < ti['start'].iloc[5]]"
   ]
  },
  {
   "cell_type": "code",
   "execution_count": null,
   "metadata": {
    "collapsed": true
   },
   "outputs": [],
   "source": [
    "init = ra.sort_values('start').groupby('player').first()['srt'].reset_index().rename(columns={'srt': 'init'})\n",
    "init.head()"
   ]
  },
  {
   "cell_type": "code",
   "execution_count": null,
   "metadata": {
    "collapsed": true
   },
   "outputs": [],
   "source": [
    "ra = pd.merge(ra, init, how='left', on=['player'])"
   ]
  },
  {
   "cell_type": "code",
   "execution_count": null,
   "metadata": {
    "collapsed": true
   },
   "outputs": [],
   "source": [
    "ra['drt'] = ra.ert - ra.srt\n",
    "ra['wdrt'] = ra['drt'] * ra['weight']\n",
    "ra.head()"
   ]
  },
  {
   "cell_type": "code",
   "execution_count": null,
   "metadata": {
    "collapsed": true
   },
   "outputs": [],
   "source": [
    "cumsums = ra[['player', 'start', 'wdrt']].groupby(['player', 'start']).sum().groupby(level=0).cumsum()\n",
    "ra = ra.set_index(['player', 'start'])\n",
    "ra['cumrt'] = cumsums\n",
    "ra = ra.reset_index()\n",
    "ra.head()"
   ]
  },
  {
   "cell_type": "code",
   "execution_count": null,
   "metadata": {
    "collapsed": true
   },
   "outputs": [],
   "source": [
    "ra['crt'] = ra.cumrt + ra.init\n",
    "#ra['crt'] = (ra.weight * ra.drt)\n",
    "ra.tail()"
   ]
  },
  {
   "cell_type": "code",
   "execution_count": null,
   "metadata": {
    "collapsed": true
   },
   "outputs": [],
   "source": [
    "ra = ra.reset_index().drop_duplicates(subset=['start', 'player'])"
   ]
  },
  {
   "cell_type": "code",
   "execution_count": null,
   "metadata": {
    "collapsed": true
   },
   "outputs": [],
   "source": [
    "ra = ra[ra['player'] != '']\n",
    "ra = ra[(ra['age'] > 6570) & (ra['age'] < 10220)]"
   ]
  },
  {
   "cell_type": "code",
   "execution_count": null,
   "metadata": {
    "collapsed": true
   },
   "outputs": [],
   "source": [
    "ra = pd.merge(ra, ra.groupby('player').size().reset_index().reset_index().drop(0,axis=1).rename(columns={'index': 'id'}), how='left', on=['player'])"
   ]
  },
  {
   "cell_type": "code",
   "execution_count": null,
   "metadata": {
    "collapsed": true
   },
   "outputs": [],
   "source": [
    "ra = pd.merge(ra, ra.groupby(['team', 'tour']).sum()[['crt']].reset_index().rename(columns={'crt': 'trt'}), how='left', on=['tour', 'team'])\n",
    "ra['trt'] = ra['trt'] - ra['crt']"
   ]
  },
  {
   "cell_type": "code",
   "execution_count": null,
   "metadata": {
    "collapsed": true
   },
   "outputs": [],
   "source": [
    "#analysis\n",
    "ra['const'] = 1\n",
    "ra['age2'] = ra.age ** 2\n",
    "ra['age3'] = ra.age ** 3\n",
    "ra['exp2'] = ra.exp ** 2\n",
    "ra['exp3'] = ra.exp ** 3\n",
    "ra['lexp'] = np.add(ra.exp, 1).apply(np.log)"
   ]
  },
  {
   "cell_type": "code",
   "execution_count": null,
   "metadata": {
    "collapsed": true
   },
   "outputs": [],
   "source": [
    "v = ra\n",
    "ra = ra.set_index(['id', 'start']).sort_index()"
   ]
  },
  {
   "cell_type": "code",
   "execution_count": null,
   "metadata": {
    "collapsed": true
   },
   "outputs": [],
   "source": [
    "y = ra['crt']\n",
    "x = ra['exp']\n",
    "plt.scatter(x, y)\n",
    "plt.plot(np.unique(x), np.poly1d(np.polyfit(x, y, 2))(np.unique(x)), 'r')"
   ]
  },
  {
   "cell_type": "code",
   "execution_count": null,
   "metadata": {
    "collapsed": true
   },
   "outputs": [],
   "source": [
    "#core vs sup\n",
    "cor = ra[ra['position'] <= 3]\n",
    "sup = ra[ra['position'] > 3]"
   ]
  },
  {
   "cell_type": "code",
   "execution_count": null,
   "metadata": {
    "collapsed": true
   },
   "outputs": [],
   "source": [
    "pos1 = ra[ra['position'] == 1]\n",
    "pos2 = ra[ra['position'] == 2]\n",
    "pos3 = ra[ra['position'] == 3]\n",
    "pos4 = ra[ra['position'] == 4]\n",
    "pos5 = ra[ra['position'] == 5]"
   ]
  },
  {
   "cell_type": "code",
   "execution_count": null,
   "metadata": {
    "collapsed": true
   },
   "outputs": [],
   "source": [
    "ra[['crt', 'age3', 'age2', 'age', 'lexp']]"
   ]
  },
  {
   "cell_type": "code",
   "execution_count": null,
   "metadata": {
    "collapsed": true
   },
   "outputs": [],
   "source": [
    "ra.describe()"
   ]
  },
  {
   "cell_type": "code",
   "execution_count": null,
   "metadata": {
    "collapsed": true
   },
   "outputs": [],
   "source": [
    "#ALL\n",
    "y = ra['wdrt']#.apply(np.log)\n",
    "x = ra[['age', 'age2', 'age3', 'trt']]\n",
    "mod = PanelOLS(y, x, entity_effects=True)\n",
    "res = mod.fit(cov_type='clustered', cluster_entity=True)\n",
    "res.summary"
   ]
  },
  {
   "cell_type": "code",
   "execution_count": null,
   "metadata": {
    "collapsed": true
   },
   "outputs": [],
   "source": [
    "#CORE\n",
    "y = cor['wdrt']\n",
    "x = cor[['age', 'age2', 'lexp', 'trt']]\n",
    "mod = PanelOLS(y, x, entity_effects=True)\n",
    "res = mod.fit(cov_type='clustered', cluster_entity=True)\n",
    "res.summary"
   ]
  },
  {
   "cell_type": "code",
   "execution_count": null,
   "metadata": {
    "collapsed": true
   },
   "outputs": [],
   "source": [
    "#SUP\n",
    "y = sup['srt'].apply(np.log)\n",
    "x = sup[['age', 'age2', 'lexp']]\n",
    "mod = PanelOLS(y, x, entity_effects=True)\n",
    "res = mod.fit(cov_type='clustered', cluster_entity=True)\n",
    "res.summary"
   ]
  },
  {
   "cell_type": "code",
   "execution_count": null,
   "metadata": {
    "collapsed": true
   },
   "outputs": [],
   "source": [
    "y = v['crt']\n",
    "x = v['srt']\n",
    "plt.scatter(x, y, alpha=0.2)\n",
    "plt.plot(np.unique(x), np.poly1d(np.polyfit(x, y, 2))(np.unique(x)), 'r')"
   ]
  },
  {
   "cell_type": "code",
   "execution_count": null,
   "metadata": {
    "collapsed": true
   },
   "outputs": [],
   "source": []
  }
 ],
 "metadata": {
  "kernelspec": {
   "display_name": "Python 3",
   "language": "python",
   "name": "python3"
  },
  "language_info": {
   "codemirror_mode": {
    "name": "ipython",
    "version": 3
   },
   "file_extension": ".py",
   "mimetype": "text/x-python",
   "name": "python",
   "nbconvert_exporter": "python",
   "pygments_lexer": "ipython3",
   "version": "3.6.3"
  }
 },
 "nbformat": 4,
 "nbformat_minor": 2
}
